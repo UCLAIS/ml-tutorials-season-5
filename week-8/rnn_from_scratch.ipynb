{
  "cells": [
    {
      "cell_type": "markdown",
      "id": "41cc05dd",
      "metadata": {
        "id": "41cc05dd"
      },
      "source": [
        "# Recurrent Neural Networks From Scratch\n",
        "\n",
        "Source: This notebook was taken from UCLAIS Tutorials Season 2.\n",
        "\n",
        "### 1.1 RNN as a sequential model\n",
        "\n",
        "The neural networks in previous tutorials are **feedforward neural networks**, which take one input (e.g. information about one credit card transaction) and transform it onto one output (e.g. fraudulent or not). Here, the model processes each instance independently. \n",
        "\n",
        "In sequential data however, instances of data are not independent. Sequential data is data where order matters, including text streams, audio clips, video clips, time series like stock prices. Predicting the next value in the sequence often requires information about many past values in the sequence, not just the latest value.\n",
        "\n",
        "<br>\n",
        "<div id=\"intro_images\">\n",
        "    <div style=\"display:inline-block;\">\n",
        "    <img src=\"https://miro.medium.com/max/626/0*SaNg8uUaKCMQSS5g.jpg\" width=\"300\"/>\n",
        "    </div>\n",
        "    <div style=\"display:inline-block;\">\n",
        "    <img src=\"https://iq.opengenus.org/content/images/2019/12/1_XvUt5wDQA8D3C0wAuxAvbA.png\" width=\"500\"/>\n",
        "    </div>\n",
        "</div>\n",
        "\n",
        "**Recurrent neural networks** are a type of neural networks suitable for sequential data. Unike feedforward neural networks, RNN keeps a memory of past inputs. The newest input (latest time step in the sequence) is combined with this memory to generate an output that continues the sequence. \n",
        "\n",
        "(E.g. to predict the closing price of a stock tomorrow, the RNN takes today's closing price, as well as memory of closing prices in the past n number of days.)\n"
      ]
    },
    {
      "cell_type": "code",
      "execution_count": 57,
      "id": "HqVFj_4ivuG9",
      "metadata": {
        "id": "HqVFj_4ivuG9"
      },
      "outputs": [],
      "source": [
        "!pip install --upgrade pandas_datareader\n",
        "\n",
        "import pandas_datareader.data as web\n",
        "import pandas as pd\n",
        "import matplotlib.pyplot as plt\n",
        "import datetime as dt"
      ]
    },
    {
      "cell_type": "code",
      "execution_count": 59,
      "id": "-U3ImCiXvxBU",
      "metadata": {
        "colab": {
          "base_uri": "https://localhost:8080/",
          "height": 237
        },
        "id": "-U3ImCiXvxBU",
        "outputId": "39509496-e275-410b-8ab4-7ca675dabd72"
      },
      "outputs": [
        {
          "data": {
            "text/html": [
              "<div>\n",
              "<style scoped>\n",
              "    .dataframe tbody tr th:only-of-type {\n",
              "        vertical-align: middle;\n",
              "    }\n",
              "\n",
              "    .dataframe tbody tr th {\n",
              "        vertical-align: top;\n",
              "    }\n",
              "\n",
              "    .dataframe thead th {\n",
              "        text-align: right;\n",
              "    }\n",
              "</style>\n",
              "<table border=\"1\" class=\"dataframe\">\n",
              "  <thead>\n",
              "    <tr style=\"text-align: right;\">\n",
              "      <th></th>\n",
              "      <th>High</th>\n",
              "      <th>Low</th>\n",
              "      <th>Open</th>\n",
              "      <th>Close</th>\n",
              "      <th>Volume</th>\n",
              "      <th>Adj Close</th>\n",
              "    </tr>\n",
              "    <tr>\n",
              "      <th>Date</th>\n",
              "      <th></th>\n",
              "      <th></th>\n",
              "      <th></th>\n",
              "      <th></th>\n",
              "      <th></th>\n",
              "      <th></th>\n",
              "    </tr>\n",
              "  </thead>\n",
              "  <tbody>\n",
              "    <tr>\n",
              "      <th>2021-01-04</th>\n",
              "      <td>133.610001</td>\n",
              "      <td>126.760002</td>\n",
              "      <td>133.520004</td>\n",
              "      <td>129.410004</td>\n",
              "      <td>143301900.0</td>\n",
              "      <td>128.617096</td>\n",
              "    </tr>\n",
              "    <tr>\n",
              "      <th>2021-01-05</th>\n",
              "      <td>131.740005</td>\n",
              "      <td>128.429993</td>\n",
              "      <td>128.889999</td>\n",
              "      <td>131.009995</td>\n",
              "      <td>97664900.0</td>\n",
              "      <td>130.207306</td>\n",
              "    </tr>\n",
              "    <tr>\n",
              "      <th>2021-01-06</th>\n",
              "      <td>131.050003</td>\n",
              "      <td>126.379997</td>\n",
              "      <td>127.720001</td>\n",
              "      <td>126.599998</td>\n",
              "      <td>155088000.0</td>\n",
              "      <td>125.824318</td>\n",
              "    </tr>\n",
              "    <tr>\n",
              "      <th>2021-01-07</th>\n",
              "      <td>131.630005</td>\n",
              "      <td>127.860001</td>\n",
              "      <td>128.360001</td>\n",
              "      <td>130.919998</td>\n",
              "      <td>109578200.0</td>\n",
              "      <td>130.117844</td>\n",
              "    </tr>\n",
              "    <tr>\n",
              "      <th>2021-01-08</th>\n",
              "      <td>132.630005</td>\n",
              "      <td>130.229996</td>\n",
              "      <td>132.429993</td>\n",
              "      <td>132.050003</td>\n",
              "      <td>105158200.0</td>\n",
              "      <td>131.240921</td>\n",
              "    </tr>\n",
              "  </tbody>\n",
              "</table>\n",
              "</div>"
            ],
            "text/plain": [
              "                  High         Low  ...       Volume   Adj Close\n",
              "Date                                ...                         \n",
              "2021-01-04  133.610001  126.760002  ...  143301900.0  128.617096\n",
              "2021-01-05  131.740005  128.429993  ...   97664900.0  130.207306\n",
              "2021-01-06  131.050003  126.379997  ...  155088000.0  125.824318\n",
              "2021-01-07  131.630005  127.860001  ...  109578200.0  130.117844\n",
              "2021-01-08  132.630005  130.229996  ...  105158200.0  131.240921\n",
              "\n",
              "[5 rows x 6 columns]"
            ]
          },
          "execution_count": 59,
          "metadata": {},
          "output_type": "execute_result"
        }
      ],
      "source": [
        "# Use pandas datareader to obtain stock data from Yahoo Finance\n",
        "data = web.DataReader('AAPL', 'yahoo', start='2021-01-01', end='2021-11-23')\n",
        "\n",
        "data.head()"
      ]
    },
    {
      "cell_type": "code",
      "execution_count": 60,
      "id": "h27a7mvXvyr0",
      "metadata": {
        "colab": {
          "base_uri": "https://localhost:8080/",
          "height": 595
        },
        "id": "h27a7mvXvyr0",
        "outputId": "d4e2583f-e4a5-49ac-a886-a8b0103dd64a"
      },
      "outputs": [
        {
          "name": "stdout",
          "output_type": "stream",
          "text": [
            "Date\n",
            "2021-01-04    129.410004\n",
            "2021-01-05    131.009995\n",
            "2021-01-06    126.599998\n",
            "2021-01-07    130.919998\n",
            "2021-01-08    132.050003\n",
            "                 ...    \n",
            "2021-11-16    151.000000\n",
            "2021-11-17    153.490005\n",
            "2021-11-18    157.869995\n",
            "2021-11-19    160.550003\n",
            "2021-11-22    161.020004\n",
            "Name: Close, Length: 225, dtype: float64\n"
          ]
        },
        {
          "data": {
            "image/png": "[encoded data removed]",
            "text/plain": [
              "<Figure size 576x360 with 1 Axes>"
            ]
          },
          "metadata": {
            "needs_background": "light"
          },
          "output_type": "display_data"
        }
      ],
      "source": [
        "# visualizing the daily closing price\n",
        "close=data['Close'] \n",
        "\n",
        "fig, ax = plt.subplots(figsize=(8,5))\n",
        "ax.plot(close.index,close,label=\"AAPL\")\n",
        "ax.set_xlabel(\"Date\")\n",
        "ax.set_ylabel(\"Closing Price ($)\")\n",
        "fig.suptitle('Daily closing price', fontsize=15)\n",
        "ax.legend()\n",
        "print(close)"
      ]
    },
    {
      "cell_type": "markdown",
      "id": "f03f1327",
      "metadata": {
        "id": "f03f1327"
      },
      "source": [
        "### 1.2 RNN structure and layers\n",
        "\n",
        "<div style=\"display:inline-block;\">\n",
        "<img src=\"https://i.imgur.com/4Mdtx7Y.jpeg\" width=\"550\"/>\n",
        "</div>\n",
        "\n",
        "#### How is a recurrent neuron different from the usual neuron?\n",
        "\n",
        "1. **The recurrent neuron as a hidden state / cell state** ($h_t$): the internal memory of the recurrent neuron. It is initialized as a zero matrix, and updated after each time step to include the information inputted at that time step.\n",
        "\n",
        "2. **The recurrent neuron's output is a function of input and memory ($y_t = f(X_t,  h_{t-1})$), instead of just a function of input($y_t = f(X_t)$)**\n",
        "<br>\n",
        "<br>\n",
        "\n",
        "\n",
        "#### Two layers of an RNN:    \n",
        "1. **Recurrent layer**: updating the hidden state\n",
        "\n",
        "$h_t = f(h_{t-1} \\times W_{hh} + X_t \\times W_xh + B_1)$\n",
        "\n",
        "$h_t$: hidden state at time step $t$. $h_0$ is initialized as a matrix of zeros. \n",
        "$W_{hh}$: weight matrix determining how the previous hidden state affects the current hidden state\n",
        "$W_{xh}$: weight matrix determining how the current input ($X$) affects the current hidden state\n",
        "$B_1$: bias of the recurrent layer\n",
        "$f()$: activation function of the recurrent layer\n",
        "<br>\n",
        "<br>\n",
        "\n",
        "2. **Feedforward layer**: using the updated hidden state to produce an output\n",
        "\n",
        "$\\hat{y}_t = g(h_t \\times W_{hy} + B_2)$\n",
        "\n",
        "$\\hat{y}_t$: output at time step $t$\n",
        "$W_{hy}$: weight matrix determining how current hidden state affects output\n",
        "$B_1$: bias of the feedforward layer\n",
        "$g()$: activation function of the feedforward layer\n",
        "\n",
        "Note: once trained, the same weight matrices will be used across all time steps.\n",
        "<br>\n",
        "<br>\n",
        "\n",
        "#### Activation functions\n",
        "Just like neural networks in previous tutorials, RNNs need activation functions to introduce non-linearity and enable learning of more complex patterns. \n",
        "\n",
        "Common activation functions for RNN:\n",
        "- sigmoid\n",
        "- ReLU\n",
        "- tanh "
      ]
    },
    {
      "cell_type": "markdown",
      "id": "89ad933c",
      "metadata": {
        "id": "89ad933c"
      },
      "source": [
        "### 1.3 Back propagation through time\n",
        "- Step 1: Values of an input sequence are passed through the model in order. At each time step, the model generates an output and calculates its loss.\n",
        "    \n",
        "    $$L_t = f_l(\\hat{y}, y)$$\n",
        "    \n",
        "    $L_t$: loss of the output at time $t$\n",
        "\n",
        "    $f_l$: loss function\n",
        "    \n",
        "    $\\hat{y}$: prediction output\n",
        "\n",
        "    $y$: actual label\n",
        "<br>\n",
        "\n",
        "- Step 2: The losses of all the time steps are summed into a total loss for the input sequence. \n",
        "\n",
        "    $$L = \\sum_{t} L_t $$\n",
        "    \n",
        "    $L$: total loss\n",
        "<br>\n",
        "\n",
        "- Step 3: Error is propagated back through each time step by taking the derivative of total loss with respect to each trainable parameter\n",
        "    \n",
        "    $$\\frac{\\partial L}{\\partial \\theta} = \\sum_{t} \\frac{\\partial L_t}{\\partial \\theta}\n",
        "    $$\n",
        "    \n",
        "    Where $\\theta$ is any trainable parameter. \n",
        "    <br>\n",
        "    The equation above represents the derivative of the total loss as a sum of the derivatives of losses at each time step. These time step losses are each calculated with:\n",
        "    \\begin{equation}\n",
        "    \\frac{\\partial L_t}{\\partial \\theta} = \\sum_{k=1}^{t} \\frac{\\partial L_t}{\\partial y_t} \\frac{\\partial y_t}{\\partial h_t}  \\frac{\\partial h_t}{\\partial h_k} \\frac{\\partial h_k}{\\partial \\theta}\n",
        "    \\end{equation}\n",
        "    \n",
        "    <br>\n",
        "    Thus, the derivative of the total loss is:\n",
        "\n",
        "    \\begin{equation}\n",
        "    \\frac{\\partial L}{\\partial \\theta} = \\sum_{t} \\sum_{k=1}^{t} \\frac{\\partial L_t}{\\partial y_t} \\frac{\\partial y_t}{\\partial h_t}  \\frac{\\partial h_t}{\\partial h_k} \\frac{\\partial h_k}{\\partial \\theta}\n",
        "    \\end{equation}\n",
        "    \n",
        "    <br>\n",
        "    This derivative w.r.t each weight is multiplied by a learning rate to adjust the weights, and learning is achieved."
      ]
    },
    {
      "cell_type": "markdown",
      "id": "25474c1f",
      "metadata": {
        "id": "25474c1f"
      },
      "source": [
        "### 1.4 RNN implementation from scratch\n",
        "\n"
      ]
    },
    {
      "cell_type": "markdown",
      "id": "3fc3d10c",
      "metadata": {
        "id": "3fc3d10c"
      },
      "source": [
        "So far, we have defined the structure of simple recurrent neural network; however, how does this translate into code?\n",
        "\n",
        "In the following section, we will have a look into implementation from scratch for the prediction of simple sine function.\n",
        "\n",
        "For starters, let's create a sample dataset by dividing the sine function into sequences of 50 units. For the model itself, we will try to predict the next value for the sequence."
      ]
    },
    {
      "cell_type": "code",
      "execution_count": 61,
      "id": "14acc364",
      "metadata": {
        "id": "14acc364"
      },
      "outputs": [],
      "source": [
        "import math\n",
        "import numpy as np\n",
        "import matplotlib.pyplot as plt\n",
        "\n",
        "#Preparing our dataset\n",
        "sine =  np.array([math.sin(x) for x in np.arange(200)])\n",
        "\n",
        "#Creating our train dataset\n",
        "X = []\n",
        "Y = []\n",
        "\n",
        "#Defining the lenght of our sequence and number of samples\n",
        "seq_len = 50\n",
        "num_records = len(sine) - seq_len\n",
        "\n",
        "for i in range(num_records - 50):\n",
        "    X.append(sine[i:i+seq_len])\n",
        "    Y.append(sine[i+seq_len])\n",
        "    \n",
        "X = np.array(X)\n",
        "X = np.expand_dims(X, axis=2)\n",
        "\n",
        "Y = np.array(Y)\n",
        "Y = np.expand_dims(Y, axis=1)"
      ]
    },
    {
      "cell_type": "markdown",
      "id": "36230126",
      "metadata": {
        "id": "36230126"
      },
      "source": [
        "To later test our model's performance, let's also create a validation dataset (we will use to after the training)."
      ]
    },
    {
      "cell_type": "code",
      "execution_count": 62,
      "id": "5277ea3d",
      "metadata": {
        "id": "5277ea3d"
      },
      "outputs": [],
      "source": [
        "#Creating our validation dataset\n",
        "X_val = []\n",
        "Y_val = []\n",
        "\n",
        "for i in range(num_records - 50, num_records):\n",
        "    X_val.append(sine[i:i+seq_len])\n",
        "    Y_val.append(sine[i+seq_len])\n",
        "    \n",
        "X_val = np.array(X_val)\n",
        "X_val = np.expand_dims(X_val, axis=2)\n",
        "\n",
        "Y_val = np.array(Y_val)\n",
        "Y_val = np.expand_dims(Y_val, axis=1)"
      ]
    },
    {
      "cell_type": "markdown",
      "id": "1062d5d5",
      "metadata": {
        "id": "1062d5d5"
      },
      "source": [
        "Now, let's start defining our simple RNN model. As it has been mentioned earlier, our model will produce a single output after processing input through a hidden state of 100 units.\n",
        "\n",
        "In the following cell, we also need to initialize the starting weights of our network:\n",
        "- U - weights between the input and hidden layers\n",
        "- V - weights between the hidden and output layers\n",
        "- W - weights for shared weights in the RNN hidden layer"
      ]
    },
    {
      "cell_type": "code",
      "execution_count": 63,
      "id": "ed14e277",
      "metadata": {
        "id": "ed14e277"
      },
      "outputs": [],
      "source": [
        "#Creating RNN\n",
        "learning_rate = 0.0001    \n",
        "num_epoch = 25               \n",
        "T = 50                   # length of sequence\n",
        "hidden_dim = 100         \n",
        "output_dim = 1\n",
        "\n",
        "bptt_truncate = 5\n",
        "min_clip_value = -10\n",
        "max_clip_value = 10\n",
        "\n",
        "#Initializing weights\n",
        "U = np.random.uniform(0, 1, (hidden_dim, T))\n",
        "W = np.random.uniform(0, 1, (hidden_dim, hidden_dim))\n",
        "V = np.random.uniform(0, 1, (output_dim, hidden_dim))"
      ]
    },
    {
      "cell_type": "markdown",
      "id": "c1d45411",
      "metadata": {
        "id": "c1d45411"
      },
      "source": [
        "Finally, let's also define our activation function used in the hidden layer (sigmoid):"
      ]
    },
    {
      "cell_type": "code",
      "execution_count": 64,
      "id": "cae74569",
      "metadata": {
        "id": "cae74569"
      },
      "outputs": [],
      "source": [
        "def sigmoid(x):\n",
        "    return 1 / (1 + np.exp(-x))"
      ]
    },
    {
      "cell_type": "markdown",
      "id": "de275696",
      "metadata": {
        "id": "de275696"
      },
      "source": [
        "#### Training our model\n",
        "\n",
        "As it has been mentioned in the previous sections, the training of RNN model can be divided into the following steps:\n",
        "- Calculating loss on train dataset\n",
        "- Forward pass\n",
        "- Backward pass\n",
        "- Updating weights"
      ]
    },
    {
      "cell_type": "code",
      "execution_count": null,
      "id": "847f221d",
      "metadata": {
        "id": "847f221d"
      },
      "outputs": [],
      "source": [
        "for epoch in range(num_epoch):\n",
        "    # defining loss\n",
        "    loss = 0.0\n",
        "    \n",
        "    # generating initial prediction\n",
        "    for i in range(Y.shape[0]):\n",
        "        \n",
        "        #Retrieving input and output for sequence\n",
        "        x, y = X[i], Y[i]\n",
        "        \n",
        "        #Initializing value of previous hidden layer\n",
        "        prev_s = np.zeros((hidden_dim, 1))   \n",
        "        for t in range(T):\n",
        "            \n",
        "            #Forward pass for every sequence\n",
        "            new_input = np.zeros(x.shape)    \n",
        "            new_input[t] = x[t]\n",
        "            \n",
        "            mulu = np.dot(U, new_input)\n",
        "            mulw = np.dot(W, prev_s)\n",
        "            add = mulw + mulu\n",
        "            \n",
        "            #Passing through activation function\n",
        "            s = sigmoid(add)\n",
        "            mulv = np.dot(V, s)\n",
        "            \n",
        "            #Defining previous state\n",
        "            prev_s = s\n",
        "\n",
        "        #Calculating error\n",
        "        loss_per_seq = (y - mulv)**2 / 2\n",
        "        loss += loss_per_seq\n",
        "        \n",
        "    loss = loss / float(y.shape[0])\n",
        "\n",
        "    print('Epoch: ', epoch + 1, ', Loss: ', loss)\n",
        "    \n",
        "    for i in range(Y.shape[0]):\n",
        "        x, y = X[i], Y[i]\n",
        "    \n",
        "        layers = []\n",
        "        prev_s = np.zeros((hidden_dim, 1))\n",
        "        dU = np.zeros(U.shape)\n",
        "        dV = np.zeros(V.shape)\n",
        "        dW = np.zeros(W.shape)\n",
        "        \n",
        "        dU_t = np.zeros(U.shape)\n",
        "        dV_t = np.zeros(V.shape)\n",
        "        dW_t = np.zeros(W.shape)\n",
        "        \n",
        "        dU_i = np.zeros(U.shape)\n",
        "        dW_i = np.zeros(W.shape)\n",
        "        \n",
        "        # Forward pass\n",
        "        for t in range(T):\n",
        "            new_input = np.zeros(x.shape)\n",
        "            new_input[t] = x[t]\n",
        "            \n",
        "            #Multiplying the input witht the weights\n",
        "            mulu = np.dot(U, new_input)\n",
        "            mulw = np.dot(W, prev_s)\n",
        "            \n",
        "            #Adding to capture information from the previous timestep\n",
        "            add = mulw + mulu\n",
        "            \n",
        "            #Passing through activation function\n",
        "            s = sigmoid(add)\n",
        "            mulv = np.dot(V, s)\n",
        "            \n",
        "            #Saving current and previous states\n",
        "            layers.append({'s':s, 'prev_s':prev_s})\n",
        "            prev_s = s\n",
        "            \n",
        "        dmulv = (mulv - y)\n",
        "        \n",
        "        # Backpropagation\n",
        "        for t in range(T):\n",
        "            dV_t = np.dot(dmulv, np.transpose(layers[t]['s']))\n",
        "            dsv = np.dot(np.transpose(V), dmulv)\n",
        "            \n",
        "            ds = dsv\n",
        "            dadd = add * (1 - add) * ds\n",
        "            \n",
        "            dmulw = dadd * np.ones_like(mulw)\n",
        "\n",
        "            dprev_s = np.dot(np.transpose(W), dmulw)\n",
        "\n",
        "\n",
        "            for i in range(t-1, max(-1, t-bptt_truncate-1), -1):\n",
        "                ds = dsv + dprev_s\n",
        "                dadd = add * (1 - add) * ds\n",
        "\n",
        "                dmulw = dadd * np.ones_like(mulw)\n",
        "                dmulu = dadd * np.ones_like(mulu)\n",
        "\n",
        "                dW_i = np.dot(W, layers[t]['prev_s'])\n",
        "                dprev_s = np.dot(np.transpose(W), dmulw)\n",
        "\n",
        "                new_input = np.zeros(x.shape)\n",
        "                new_input[t] = x[t]\n",
        "                dU_i = np.dot(U, new_input)\n",
        "                dx = np.dot(np.transpose(U), dmulu)\n",
        "\n",
        "                dU_t += dU_i\n",
        "                dW_t += dW_i\n",
        "                \n",
        "            dV += dV_t\n",
        "            dU += dU_t\n",
        "            dW += dW_t\n",
        "            \n",
        "            \n",
        "            # Ensuring that the gradients' values fall within our predefined range\n",
        "            # between min_clip_value and max_clip_value\n",
        "            \n",
        "            if dU.max() > max_clip_value:\n",
        "                dU[dU > max_clip_value] = max_clip_value\n",
        "            if dV.max() > max_clip_value:\n",
        "                dV[dV > max_clip_value] = max_clip_value\n",
        "            if dW.max() > max_clip_value:\n",
        "                dW[dW > max_clip_value] = max_clip_value\n",
        "                \n",
        "            \n",
        "            if dU.min() < min_clip_value:\n",
        "                dU[dU < min_clip_value] = min_clip_value\n",
        "            if dV.min() < min_clip_value:\n",
        "                dV[dV < min_clip_value] = min_clip_value\n",
        "            if dW.min() < min_clip_value:\n",
        "                dW[dW < min_clip_value] = min_clip_value\n",
        "        \n",
        "        # Updating our weights\n",
        "        U -= learning_rate * dU\n",
        "        V -= learning_rate * dV\n",
        "        W -= learning_rate * dW"
      ]
    },
    {
      "cell_type": "markdown",
      "id": "5d7c4aa7",
      "metadata": {
        "id": "5d7c4aa7"
      },
      "source": [
        "Finally, after training, we can test our model with previously defined validation dataset."
      ]
    },
    {
      "cell_type": "code",
      "execution_count": 66,
      "id": "b5e2e822",
      "metadata": {
        "colab": {
          "base_uri": "https://localhost:8080/",
          "height": 265
        },
        "id": "b5e2e822",
        "outputId": "6f888c57-10ea-4879-ab06-9ac136d16d83"
      },
      "outputs": [
        {
          "data": {
            "image/png": "[encoded data removed]",
            "text/plain": [
              "<Figure size 432x288 with 1 Axes>"
            ]
          },
          "metadata": {
            "needs_background": "light"
          },
          "output_type": "display_data"
        }
      ],
      "source": [
        "preds = []\n",
        "for i in range(Y_val.shape[0]):\n",
        "    x, y = X_val[i], Y_val[i]\n",
        "    prev_s = np.zeros((hidden_dim, 1))\n",
        "\n",
        "    for t in range(T):\n",
        "        mulu = np.dot(U, x)\n",
        "        mulw = np.dot(W, prev_s)\n",
        "        add = mulw + mulu\n",
        "        s = sigmoid(add)\n",
        "        mulv = np.dot(V, s)\n",
        "        prev_s = s\n",
        "\n",
        "    preds.append(mulv)\n",
        "    \n",
        "preds = np.array(preds)\n",
        "\n",
        "plt.plot(preds[:, 0, 0], 'b')\n",
        "plt.plot(Y_val[:, 0], 'r')\n",
        "plt.show()"
      ]
    },
    {
      "cell_type": "markdown",
      "id": "81d1f3ba",
      "metadata": {
        "id": "81d1f3ba"
      },
      "source": [
        "### 1.5 RNN implementation in Tensorflow"
      ]
    },
    {
      "cell_type": "code",
      "execution_count": 67,
      "id": "QM51y920wEPv",
      "metadata": {
        "id": "QM51y920wEPv"
      },
      "outputs": [],
      "source": [
        "import tensorflow as tf\n",
        "from keras.models import Sequential\n",
        "from keras.layers import Dense, SimpleRNN\n",
        "from tensorflow.keras.optimizers import SGD, Adam\n",
        "\n",
        "from sklearn.preprocessing import MinMaxScaler\n",
        "from sklearn.metrics import mean_squared_error\n",
        "import numpy as np"
      ]
    },
    {
      "cell_type": "code",
      "execution_count": null,
      "id": "45WnM7U3wPd4",
      "metadata": {
        "id": "45WnM7U3wPd4"
      },
      "outputs": [],
      "source": [
        "#check missing value\n",
        "data.isna().sum()"
      ]
    },
    {
      "cell_type": "code",
      "execution_count": 69,
      "id": "RTx6opRUwSpe",
      "metadata": {
        "colab": {
          "base_uri": "https://localhost:8080/"
        },
        "id": "RTx6opRUwSpe",
        "outputId": "282a17db-e75e-4cae-dda7-cfd0aea41633"
      },
      "outputs": [
        {
          "data": {
            "text/plain": [
              "(225, 1)"
            ]
          },
          "execution_count": 69,
          "metadata": {},
          "output_type": "execute_result"
        }
      ],
      "source": [
        "#scale data\n",
        "scaler = MinMaxScaler()\n",
        "scaled_data = scaler.fit_transform(close.values.reshape(-1,1))\n",
        "scaled_data.shape"
      ]
    },
    {
      "cell_type": "code",
      "execution_count": 70,
      "id": "siK65HhewVOq",
      "metadata": {
        "id": "siK65HhewVOq"
      },
      "outputs": [],
      "source": [
        "#define functions to split data\n",
        "def input_output_split(dataset, y_start, y_end, history):\n",
        "  X = []\n",
        "  y = []\n",
        "  y_start += history\n",
        "  for i in range(y_start, y_end):\n",
        "    indices = range(i-history, i)\n",
        "    X.append(np.reshape(dataset[indices], (history, 1)))\n",
        "    y.append(dataset[i])\n",
        "  return np.array(X), np.array(y)\n",
        "\n",
        "def test_train_split(dataset, train_ratio, history):\n",
        "  training_size = int(dataset.size * train_ratio)\n",
        "  X_train, y_train = input_output_split(dataset, 0, training_size, history)\n",
        "  X_test, y_test = input_output_split(dataset, training_size, len(dataset), history)\n",
        "  return X_train, y_train, X_test, y_test\n"
      ]
    },
    {
      "cell_type": "markdown",
      "id": "y24L7IWj3mrb",
      "metadata": {
        "id": "y24L7IWj3mrb"
      },
      "source": [
        "RNN expects input dataset to be 3D-shaped (instances, timesteps, features)\n"
      ]
    },
    {
      "cell_type": "code",
      "execution_count": 85,
      "id": "Q76Z4mACwc4n",
      "metadata": {
        "colab": {
          "base_uri": "https://localhost:8080/"
        },
        "id": "Q76Z4mACwc4n",
        "outputId": "42bc4910-8694-4e57-c67f-389666b0fe39"
      },
      "outputs": [
        {
          "data": {
            "text/plain": [
              "((170, 10, 1), (170, 1))"
            ]
          },
          "execution_count": 85,
          "metadata": {},
          "output_type": "execute_result"
        }
      ],
      "source": [
        "#split data\n",
        "X_train, y_train, X_test, y_test = test_train_split(scaled_data, 0.8, 10)\n",
        "\n",
        "X_train.shape, y_train.shape"
      ]
    },
    {
      "cell_type": "code",
      "execution_count": null,
      "id": "1DQbf4K6zW1b",
      "metadata": {
        "id": "1DQbf4K6zW1b"
      },
      "outputs": [],
      "source": [
        "#create model\n",
        "def create_RNN(hidden_units, dense_units, input_shape, activation):\n",
        "    rmodel = Sequential()\n",
        "\n",
        "    # recurrent layer:\n",
        "    rmodel.add(SimpleRNN(hidden_units, input_shape=input_shape, \n",
        "                        activation=activation[0]))\n",
        "    # feedfoward layer:\n",
        "    rmodel.add(Dense(units=dense_units, activation=activation[1]))\n",
        "\n",
        "    rmodel.compile(optimizer=Adam(learning_rate=1e-3), loss=tf.keras.losses.MeanSquaredError(), metrics=[tf.keras.metrics.MeanSquaredError()])\n",
        "\n",
        "    return rmodel\n",
        " \n",
        "RNN_model = create_RNN(8, 1, (10,1), activation=['sigmoid', 'relu'])\n",
        "\n",
        "RNN_model.summary()"
      ]
    },
    {
      "cell_type": "code",
      "execution_count": null,
      "id": "sCjbn2Kk04U8",
      "metadata": {
        "id": "sCjbn2Kk04U8"
      },
      "outputs": [],
      "source": [
        "#train model\n",
        "RNN_model.fit(X_train, y_train, epochs=20, batch_size=1, verbose=2)"
      ]
    },
    {
      "cell_type": "code",
      "execution_count": 90,
      "id": "CqLAtS1C7tEf",
      "metadata": {
        "colab": {
          "base_uri": "https://localhost:8080/"
        },
        "id": "CqLAtS1C7tEf",
        "outputId": "18ff7a1b-cbbf-4d11-8fa2-cf19495e7170"
      },
      "outputs": [
        {
          "name": "stdout",
          "output_type": "stream",
          "text": [
            "MSE: 0.003\n",
            "[139.70413 140.73264 141.66429 142.77484 142.67307 142.56572 141.56274\n",
            " 140.91917 142.99507 144.19817 145.64993 147.53839 148.21982 148.4688\n",
            " 147.93082 147.79124 148.27608 148.01979 150.64854 149.14284 148.19508\n",
            " 148.84677 150.03354 149.84937 150.02527 149.4628  149.62015 147.55537\n",
            " 147.13347 148.65814 148.9387  149.67935 151.59358 154.94313 157.27788]\n"
          ]
        }
      ],
      "source": [
        "#predict using test set\n",
        "y_pred = RNN_model.predict(X_test)\n",
        "mse = mean_squared_error(y_test, y_pred)\n",
        "print('MSE: %.3f' % (mse))\n",
        "\n",
        "y_pred = scaler.inverse_transform(y_pred).flatten()\n",
        "print(y_pred)"
      ]
    },
    {
      "cell_type": "code",
      "execution_count": 91,
      "id": "d28KQmNQ8uL_",
      "metadata": {
        "colab": {
          "base_uri": "https://localhost:8080/",
          "height": 294
        },
        "id": "d28KQmNQ8uL_",
        "outputId": "70137397-5a41-4bd8-f38f-39ee1235ceb4"
      },
      "outputs": [
        {
          "data": {
            "text/plain": [
              "Text(0, 0.5, 'AAPL Closing Price ($)')"
            ]
          },
          "execution_count": 91,
          "metadata": {},
          "output_type": "execute_result"
        },
        {
          "data": {
            "image/png": "[encoded data removed]",
            "text/plain": [
              "<Figure size 432x288 with 1 Axes>"
            ]
          },
          "metadata": {
            "needs_background": "light"
          },
          "output_type": "display_data"
        }
      ],
      "source": [
        "#visualize the predictions\n",
        "y_pred = np.concatenate(([None]*(len(data)-len(y_pred)),y_pred))\n",
        "result = pd.DataFrame({'predicted':y_pred, 'target':close}, index=data.index)\n",
        "result.plot().set_ylabel(\"AAPL Closing Price ($)\")"
      ]
    },
    {
      "cell_type": "markdown",
      "id": "jgCiNcr2DOvW",
      "metadata": {
        "id": "jgCiNcr2DOvW"
      },
      "source": [
        "Reference:\n",
        "\n",
        "https://www.ibm.com/cloud/learn/recurrent-neural-networks\n",
        "\n",
        "http://introtodeeplearning.com/slides/6S191_MIT_DeepLearning_L2.pdf\n",
        "\n",
        "https://www.youtube.com/watch?v=qjrad0V0uJE\n",
        "\n",
        "https://towardsdatascience.com/sequence-models-and-recurrent-neural-networks-rnns-62cadeb4f1e1\n",
        "\n",
        "https://towardsdatascience.com/under-the-hood-of-neural-networks-part-2-recurrent-af091247ba78\n",
        "\n",
        "https://medium.com/deep-math-machine-learning-ai/chapter-10-deepnlp-recurrent-neural-networks-with-math-c4a6846a50a2\n",
        "\n",
        "https://machinelearningmastery.com/understanding-simple-recurrent-neural-networks-in-keras/\n",
        "\n",
        "https://www.youtube.com/watch?v=p5pDBGoJmR0"
      ]
    }
  ],
  "metadata": {
    "colab": {
      "name": "1_Recurrent Neural Networks_1.ipynb",
      "provenance": []
    },
    "kernelspec": {
      "display_name": "Python 3 (ipykernel)",
      "language": "python",
      "name": "python3"
    },
    "language_info": {
      "codemirror_mode": {
        "name": "ipython",
        "version": 3
      },
      "file_extension": ".py",
      "mimetype": "text/x-python",
      "name": "python",
      "nbconvert_exporter": "python",
      "pygments_lexer": "ipython3",
      "version": "3.9.6"
    }
  },
  "nbformat": 4,
  "nbformat_minor": 5
}
