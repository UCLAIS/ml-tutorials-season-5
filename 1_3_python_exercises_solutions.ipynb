{
  "cells": [
    {
      "cell_type": "markdown",
      "metadata": {
        "id": "uHXCKt2V2dGK"
      },
      "source": [
        "# UCLAIS Introduction to Python: Exercises"
      ]
    },
    {
      "cell_type": "markdown",
      "metadata": {
        "id": "R131N1Ho2dGL"
      },
      "source": [
        "## Exercises\n",
        "\n",
        "- Numerics\n",
        "- Shorthand assignment operators\n",
        "- Functions\n",
        "- Control flow (for and while loops)\n",
        "- Recursive and non-recursive Fibonacci implementations\n",
        "- Comprehensions\n",
        "- min/max built-ins\n",
        "- Dictionaries\n",
        "- Sets\n",
        "- Classes\n",
        "\n",
        "### Imports"
      ]
    },
    {
      "cell_type": "code",
      "execution_count": null,
      "metadata": {
        "id": "quPFfA5w2dGM"
      },
      "outputs": [],
      "source": [
        "from typing import List"
      ]
    },
    {
      "cell_type": "markdown",
      "metadata": {
        "id": "_n7F1Rzh2dGM"
      },
      "source": [
        "### Exercise 1: Numerics &ndash; the Modulo Operator"
      ]
    },
    {
      "cell_type": "markdown",
      "metadata": {
        "id": "PcIFWZtS2dGM"
      },
      "source": [
        "> Find the remainder when dividing 367 by 53"
      ]
    },
    {
      "cell_type": "code",
      "execution_count": 1,
      "metadata": {
        "id": "MSV_oJte2dGM"
      },
      "outputs": [],
      "source": [
        "# TODO: your code here\n",
        "remainder = 367 % 53"
      ]
    },
    {
      "cell_type": "code",
      "execution_count": 2,
      "metadata": {
        "id": "V3r7lbYp2dGN"
      },
      "outputs": [],
      "source": [
        "assert remainder == 49"
      ]
    },
    {
      "cell_type": "markdown",
      "metadata": {
        "id": "DI6_AMpk2dGN"
      },
      "source": [
        "### Exercise 2: Numerics &ndash; Calculations\n",
        "\n",
        "> Compute the result of the following mathematical expression:\n",
        "\n",
        "$$\\text{result} = 9a^4 - \\dfrac{56b^2}{3c + 2} + 13$$"
      ]
    },
    {
      "cell_type": "code",
      "execution_count": 3,
      "metadata": {
        "id": "zgfef8R72dGN"
      },
      "outputs": [],
      "source": [
        "a = 3\n",
        "b = 3\n",
        "c = 12"
      ]
    },
    {
      "cell_type": "code",
      "execution_count": 4,
      "metadata": {
        "id": "B8QjmY2B2dGN"
      },
      "outputs": [],
      "source": [
        "# TODO: your code here\n",
        "result = 9*a**4 - (56*b**2)/(3*c + 2) + 13"
      ]
    },
    {
      "cell_type": "code",
      "execution_count": 5,
      "metadata": {
        "id": "LLN3T3Hx2dGN"
      },
      "outputs": [],
      "source": [
        "assert round(result) == 729"
      ]
    },
    {
      "cell_type": "markdown",
      "metadata": {
        "id": "zG11LXpU2dGO"
      },
      "source": [
        "### Exercise 3: Shorthand Assignment Operators\n",
        "\n",
        "> Rewrite the following assignment statements using the shorthand assignment operators."
      ]
    },
    {
      "cell_type": "code",
      "execution_count": 6,
      "metadata": {
        "id": "h_yt8wJq2dGO"
      },
      "outputs": [],
      "source": [
        "variable = 17\n",
        "\n",
        "variable = variable + 5\n",
        "variable = variable * 76\n",
        "variable = variable - 7\n",
        "variable = variable + 23\n",
        "variable = variable / 12\n",
        "variable = variable // 36\n",
        "\n",
        "##\n",
        "\n",
        "variable = 17\n",
        "\n",
        "variable += 5\n",
        "variable *= 76\n",
        "variable -= 7\n",
        "variable += 23\n",
        "variable /= 12\n",
        "variable //= 36"
      ]
    },
    {
      "cell_type": "code",
      "execution_count": 7,
      "metadata": {
        "id": "9q00yR1Q2dGO"
      },
      "outputs": [],
      "source": [
        "assert variable == 3"
      ]
    },
    {
      "cell_type": "markdown",
      "metadata": {
        "id": "ZUczCntK2dGO"
      },
      "source": [
        "### Exercise 4: Functions"
      ]
    },
    {
      "cell_type": "markdown",
      "metadata": {
        "id": "-oLwNWGc2dGO"
      },
      "source": [
        "> Write a function `count_odd_numbers(numbers)` that takes in a list of integers and returns the number of odd numbers in the list."
      ]
    },
    {
      "cell_type": "code",
      "execution_count": 9,
      "metadata": {
        "id": "FNRKcPG82dGO"
      },
      "outputs": [],
      "source": [
        "def count_odd_numbers(numbers):\n",
        "    count = 0\n",
        "    # TODO: your code here\n",
        "    for number in numbers:\n",
        "        if number % 2 != 0:\n",
        "            count += 1\n",
        "\n",
        "    return count"
      ]
    },
    {
      "cell_type": "code",
      "execution_count": 10,
      "metadata": {
        "id": "OiEonwm-2dGP"
      },
      "outputs": [],
      "source": [
        "# These assertions will pass if you have implemented the function above correctly\n",
        "assert count_odd_numbers([1, 2, 3, 4, 5, 6]) == 3\n",
        "assert count_odd_numbers([1, 3, 5, 7]) == 4\n",
        "assert count_odd_numbers([-2, 2, -10, 8]) == 0"
      ]
    },
    {
      "cell_type": "markdown",
      "metadata": {
        "id": "EoehpFoe2dGP"
      },
      "source": [
        "### Exercise 5: Filtering Lists"
      ]
    },
    {
      "cell_type": "markdown",
      "metadata": {
        "id": "fLlrAQ2i2dGP"
      },
      "source": [
        "> Implement the `bucket_list_filter` function which takes a list of activities (strings) and a list of completed activities as arguments. The function should return a list of bucket list activities that have been completed."
      ]
    },
    {
      "cell_type": "code",
      "execution_count": 11,
      "metadata": {
        "id": "rrdU9rHb2dGP"
      },
      "outputs": [],
      "source": [
        "# activities ticked off the bucket list\n",
        "\n",
        "COMPLETED_ACTIVITIES = [\"Skydiving\", \"Run a marathon\", \"Visit Japan\"]"
      ]
    },
    {
      "cell_type": "code",
      "execution_count": 13,
      "metadata": {
        "id": "ZAvGYmMI2dGP"
      },
      "outputs": [],
      "source": [
        "def bucket_list_filter(activities, completed_activities):\n",
        "    # TODO: your code here\n",
        "    bucket_list = []\n",
        "    for completed_activity in completed_activities:\n",
        "        if completed_activity in activities:\n",
        "            bucket_list.append(completed_activity)\n",
        "\n",
        "    return bucket_list"
      ]
    },
    {
      "cell_type": "code",
      "execution_count": 14,
      "metadata": {
        "id": "JRPAGnG92dGQ"
      },
      "outputs": [],
      "source": [
        "activities_to_check_1 = [\n",
        "    \"Run a marathon\",\n",
        "    \"Learn to draw\",\n",
        "    \"Visit Japan\",\n",
        "    \"Meet Miranda Hart\",\n",
        "]\n",
        "activities_done_1 = bucket_list_filter(activities_to_check_1, COMPLETED_ACTIVITIES)\n",
        "assert set(activities_done_1) == {\"Run a marathon\", \"Visit Japan\"}\n",
        "\n",
        "activities_to_check_2 = [\n",
        "    \"Fly a kite\",\n",
        "    \"Ride a horse in Mongolia\",\n",
        "    \"Learn how to make sushi\",\n",
        "]\n",
        "activities_done_2 = bucket_list_filter(activities_to_check_2, COMPLETED_ACTIVITIES)\n",
        "assert activities_done_2 == []"
      ]
    },
    {
      "cell_type": "markdown",
      "metadata": {
        "id": "pvmJTGiE2dGQ"
      },
      "source": [
        "### Exercise 6: Finding the Maximum Number in a List\n",
        "\n",
        "> Write a function to find the maximum number witin a list of numbers."
      ]
    },
    {
      "cell_type": "code",
      "execution_count": 15,
      "metadata": {
        "id": "Yoxty1qZ2dGQ"
      },
      "outputs": [],
      "source": [
        "def find_maximum_number(numbers):\n",
        "    # TODO: your code here\n",
        "    maximum = numbers[0] # maximum = -99999 (-np.inf)\n",
        "    for number in numbers:\n",
        "      if number > maximum:\n",
        "        maximum = number\n",
        "\n",
        "    return maximum"
      ]
    },
    {
      "cell_type": "markdown",
      "metadata": {
        "id": "RbKCvuga2dGQ"
      },
      "source": [
        "**Hint**: you could try using the built-in `max()` function, although how would you implement it yourself?"
      ]
    },
    {
      "cell_type": "code",
      "execution_count": 16,
      "metadata": {
        "id": "E5n2hh5k2dGQ"
      },
      "outputs": [],
      "source": [
        "assert find_maximum_number([5, 67, 89, -222, 10, 4583, 555.2]) == 4583\n",
        "assert find_maximum_number([43, -55.2, 12, -3.2, 76, -90, 12, 23, 45]) == 76"
      ]
    },
    {
      "cell_type": "markdown",
      "metadata": {
        "id": "nN22D3Fa2dGQ"
      },
      "source": [
        "### Exercise 7: Mystery Function\n",
        "\n",
        "> Defined below is the function `foo`. What do you think this function returns when given the dictionary `instagram_records`? Assign `guess` to what you think the result is, and make sure the data types match up!"
      ]
    },
    {
      "cell_type": "code",
      "execution_count": 17,
      "metadata": {
        "id": "vQA472x32dGQ"
      },
      "outputs": [],
      "source": [
        "def foo(dictionary):\n",
        "    super_accounts = set()\n",
        "\n",
        "    for account, followers in dictionary.items():\n",
        "        if followers > 5000000:\n",
        "            super_accounts.add(account)\n",
        "\n",
        "    return super_accounts\n",
        "\n",
        "\n",
        "instagram_records = {\n",
        "    \"Kendall Jenner\": 278000000,\n",
        "    \"SZA\": 15600000,\n",
        "    \"Jerry Seinfeld\": 1300000,\n",
        "    \"Miranda Hart\": 906000,\n",
        "    \"The Economist\": 6100000,\n",
        "    \"L'Impératrice\": 156000,\n",
        "}"
      ]
    },
    {
      "cell_type": "code",
      "execution_count": 18,
      "metadata": {
        "id": "adv4cfY_2dGR"
      },
      "outputs": [],
      "source": [
        "# what do you think will be returned?\n",
        "\n",
        "guess = {'Kendall Jenner', 'SZA', 'The Economist'}"
      ]
    },
    {
      "cell_type": "code",
      "execution_count": 19,
      "metadata": {
        "id": "ypBOhboa2dGR"
      },
      "outputs": [],
      "source": [
        "assert guess == foo(instagram_records)"
      ]
    },
    {
      "cell_type": "markdown",
      "metadata": {
        "id": "jmLL4hyd2dGR"
      },
      "source": [
        "> How could you rewrite the `xyz()` function using a set comprehension?"
      ]
    },
    {
      "cell_type": "code",
      "execution_count": 20,
      "metadata": {
        "id": "xdIFTVAO2dGR"
      },
      "outputs": [],
      "source": [
        "def foo_improved(dictionary):\n",
        "    # TODO: your code here\n",
        "    super_accounts = {account for account, followers in dictionary.items() if followers > 5000000}\n",
        "    return super_accounts\n",
        "\n",
        "\n",
        "assert foo_improved(instagram_records) == foo(instagram_records)"
      ]
    },
    {
      "cell_type": "markdown",
      "metadata": {
        "id": "w563og-X2dGR"
      },
      "source": [
        "### Exercise 8: Control Flow (`if`, `for` and `while`)"
      ]
    },
    {
      "cell_type": "markdown",
      "metadata": {
        "id": "sC781ICA2dGR"
      },
      "source": [
        "Convert a list of numbers into a list of strings based on the following rules:\n",
        "- if the number is greater than twenty, it is \"large\"\n",
        "- if the number is less than twenty, it is \"small\"\n",
        "- if the number is odd, it is \"odd\"\n",
        "- if the number is even, it is \"even\"\n",
        "\n",
        "The number 23 is \"large odd\", whereas 4 is \"small even\"."
      ]
    },
    {
      "cell_type": "code",
      "execution_count": 21,
      "metadata": {
        "id": "TUjEIu9v2dGR"
      },
      "outputs": [],
      "source": [
        "numbers = [5, 78, 3, 45, 67, 222, 34, 2, 44, 55, 90, 78]"
      ]
    },
    {
      "cell_type": "code",
      "execution_count": 22,
      "metadata": {
        "id": "BP4YALL62dGR"
      },
      "outputs": [],
      "source": [
        "# TODO: your code here\n",
        "my_list = []\n",
        "\n",
        "for number in numbers:\n",
        "    if number > 20 and number % 2 != 0:\n",
        "        my_list.append(\"large odd\")\n",
        "    elif number > 20 and number % 2 == 0:\n",
        "        my_list.append(\"large even\")\n",
        "    elif number < 20 and number % 2 != 0:\n",
        "        my_list.append(\"small odd\")\n",
        "    elif number < 20 and number % 2 == 0:\n",
        "        my_list.append(\"small even\")\n",
        "    else:\n",
        "        my_list.append(\"20\")"
      ]
    },
    {
      "cell_type": "code",
      "execution_count": 23,
      "metadata": {
        "id": "O7DlHfj92dGR"
      },
      "outputs": [],
      "source": [
        "assert my_list == [\n",
        "    \"small odd\",\n",
        "    \"large even\",\n",
        "    \"small odd\",\n",
        "    \"large odd\",\n",
        "    \"large odd\",\n",
        "    \"large even\",\n",
        "    \"large even\",\n",
        "    \"small even\",\n",
        "    \"large even\",\n",
        "    \"large odd\",\n",
        "    \"large even\",\n",
        "    \"large even\",\n",
        "]"
      ]
    },
    {
      "cell_type": "markdown",
      "metadata": {
        "id": "uyomt4wE2dGR"
      },
      "source": [
        "### Exercise 9: Fibonacci Sequence\n",
        "\n",
        "> Output the first 15 numbers in the Fibonacci sequence, using a `while` loop. To do this, complete the programme below."
      ]
    },
    {
      "cell_type": "code",
      "execution_count": 24,
      "metadata": {
        "id": "hLRNsnNb2dGS",
        "colab": {
          "base_uri": "https://localhost:8080/"
        },
        "outputId": "dbb51272-ad7e-4069-f631-8c95a07d57a9"
      },
      "outputs": [
        {
          "output_type": "stream",
          "name": "stdout",
          "text": [
            "0 1 1 2 3 5 8 13 21 34 55 89 144 233 377 "
          ]
        }
      ],
      "source": [
        "# TODO: complete this code\n",
        "\n",
        "series_length = 15\n",
        "\n",
        "a = 0\n",
        "b = 1\n",
        "sum = 0\n",
        "count = 0\n",
        "\n",
        "while count < series_length:\n",
        "    print(sum, end=\" \")\n",
        "    a = b\n",
        "    b = sum\n",
        "    sum = a + b\n",
        "    count += 1"
      ]
    },
    {
      "cell_type": "markdown",
      "metadata": {
        "id": "Kj4OOmtL2dGS"
      },
      "source": [
        "> Create a Fibonacci sequence again, but this time, recursively."
      ]
    },
    {
      "cell_type": "code",
      "execution_count": 25,
      "metadata": {
        "id": "-bmIgKEX2dGS",
        "colab": {
          "base_uri": "https://localhost:8080/"
        },
        "outputId": "fd2a1662-ca46-42eb-b685-bbc709e3ecc6"
      },
      "outputs": [
        {
          "output_type": "stream",
          "name": "stdout",
          "text": [
            "0 1 1 2 3 5 8 13 21 34 55 89 144 "
          ]
        }
      ],
      "source": [
        "# TODO: complete this function\n",
        "def fibonacci_sequence(number):\n",
        "\n",
        "    # Check if input is 0 then it will\n",
        "    # print incorrect input\n",
        "    if number < 0:\n",
        "        print(\"Incorrect input\")\n",
        "\n",
        "    # Check if n is 0\n",
        "    # then it will return 0\n",
        "    elif number == 0:\n",
        "        return 0\n",
        "\n",
        "    # Check if n is 1,2\n",
        "    # it will return 1\n",
        "    elif number == 1 or number == 2:\n",
        "        return 1\n",
        "\n",
        "    else:\n",
        "        return fibonacci_sequence(number-1) + fibonacci_sequence(number-2)\n",
        "\n",
        "\n",
        "length = 13\n",
        "\n",
        "for i in range(length):\n",
        "    print(fibonacci_sequence(i), end=\" \")"
      ]
    },
    {
      "cell_type": "markdown",
      "metadata": {
        "id": "6jj8PxGb2dGS"
      },
      "source": [
        "Which approach &ndash; iterative or recursive &ndash; would be preferable for this task?"
      ]
    },
    {
      "cell_type": "markdown",
      "metadata": {
        "id": "wcGvMjE22dGS"
      },
      "source": [
        "### Exercise 10: List Comprehensions"
      ]
    },
    {
      "cell_type": "markdown",
      "metadata": {
        "id": "hTxvCnz72dGS"
      },
      "source": [
        "> You are given a list of floating-point numbers. Using a list comprehension, create a new list called `integers` containing only the whole numbers from the original list of numbers **as integers**."
      ]
    },
    {
      "cell_type": "code",
      "execution_count": 26,
      "metadata": {
        "id": "Ib7JfqYI2dGS"
      },
      "outputs": [],
      "source": [
        "numbers = [12.0, 3.4, 66.0, 7.8, 44.8, 9.1, 6.0, 3.0, 55.0, 89.23, 999.0, 76.0, 5.0, 43.0, 22.1, 44.0]"
      ]
    },
    {
      "cell_type": "code",
      "execution_count": 27,
      "metadata": {
        "id": "v3V34yYd2dGS",
        "colab": {
          "base_uri": "https://localhost:8080/"
        },
        "outputId": "8aad5e8c-4bbb-4338-9d45-0c4a9001df6e"
      },
      "outputs": [
        {
          "output_type": "stream",
          "name": "stdout",
          "text": [
            "False\n"
          ]
        }
      ],
      "source": [
        "# TODO: your code here\n",
        "integers = []\n",
        "\n",
        "for number in numbers:\n",
        "    if number.is_integer():\n",
        "        integers.append(number)\n",
        "\n",
        "print(isinstance(12.0, int))"
      ]
    },
    {
      "cell_type": "code",
      "execution_count": 28,
      "metadata": {
        "id": "wM2iWw7I2dGS"
      },
      "outputs": [],
      "source": [
        "assert integers == [12, 66, 6, 3, 55, 999, 76, 5, 43, 44]"
      ]
    },
    {
      "cell_type": "markdown",
      "metadata": {
        "id": "WFi740uz2dGS"
      },
      "source": [
        "> Now, create a list (using a single list comprehension) that contains all the numbers from 1 to 1000 that have the digit 3 in them."
      ]
    },
    {
      "cell_type": "code",
      "execution_count": 29,
      "metadata": {
        "id": "UqwHTANj2dGS"
      },
      "outputs": [],
      "source": [
        "numbers_with_3 = [number for number in range(1, 1001) if '3' in str(number)]"
      ]
    },
    {
      "cell_type": "markdown",
      "metadata": {
        "id": "Rx1JNTEK2dGS"
      },
      "source": [
        "### Dictionaries and Sets"
      ]
    },
    {
      "cell_type": "markdown",
      "metadata": {
        "id": "F9BwvNUb2dGS"
      },
      "source": [
        "### Exercise 11: Dictionaries\n",
        "\n",
        "> Create a dictionary `fruit_counts` that maps from fruit names to the number of times they appear in the list below."
      ]
    },
    {
      "cell_type": "code",
      "execution_count": 30,
      "metadata": {
        "id": "TGV9imwt2dGS"
      },
      "outputs": [],
      "source": [
        "fruit = [\n",
        "    \"apple\",\n",
        "    \"blueberry\",\n",
        "    \"cherry\",\n",
        "    \"apple\",\n",
        "    \"pear\",\n",
        "    \"guava\",\n",
        "    \"pear\",\n",
        "    \"blueberry\",\n",
        "    \"guava\",\n",
        "    \"blueberry\",\n",
        "    \"apple\",\n",
        "    \"cherry\",\n",
        "    \"watermelon\",\n",
        "    \"cherry\",\n",
        "    \"cherry\",\n",
        "    \"apple\",\n",
        "    \"blueberry\",\n",
        "    \"cherry\",\n",
        "    \"pear\",\n",
        "    \"melon\",\n",
        "    \"blueberry\",\n",
        "]"
      ]
    },
    {
      "cell_type": "code",
      "execution_count": 31,
      "metadata": {
        "id": "TOaOW-h_2dGS",
        "colab": {
          "base_uri": "https://localhost:8080/"
        },
        "outputId": "732a6e87-518a-470b-9d5e-b306dbd7ae37"
      },
      "outputs": [
        {
          "output_type": "stream",
          "name": "stdout",
          "text": [
            "{'apple': 4, 'blueberry': 5, 'cherry': 5, 'pear': 3, 'guava': 2, 'watermelon': 1, 'melon': 1}\n"
          ]
        }
      ],
      "source": [
        "fruit_counts = {}\n",
        "\n",
        "# TODO: your code here\n",
        "for fruit_name in fruit:\n",
        "    if fruit_name not in fruit_counts:\n",
        "        fruit_counts[fruit_name] = 1\n",
        "    else:\n",
        "        fruit_counts[fruit_name] += 1\n",
        "print(fruit_counts)"
      ]
    },
    {
      "cell_type": "markdown",
      "metadata": {
        "id": "n-sD-eNz2dGS"
      },
      "source": [
        "Your output should match what you see below:"
      ]
    },
    {
      "cell_type": "code",
      "execution_count": 32,
      "metadata": {
        "id": "sqsPpTjt2dGT",
        "outputId": "298fac55-0d25-46a3-eebd-e04f04d6450a",
        "colab": {
          "base_uri": "https://localhost:8080/"
        }
      },
      "outputs": [
        {
          "output_type": "execute_result",
          "data": {
            "text/plain": [
              "Counter({'apple': 4,\n",
              "         'blueberry': 5,\n",
              "         'cherry': 5,\n",
              "         'pear': 3,\n",
              "         'guava': 2,\n",
              "         'watermelon': 1,\n",
              "         'melon': 1})"
            ]
          },
          "metadata": {},
          "execution_count": 32
        }
      ],
      "source": [
        "from collections import Counter\n",
        "\n",
        "Counter(fruit)"
      ]
    },
    {
      "cell_type": "markdown",
      "metadata": {
        "id": "kFCLTFl72dGT"
      },
      "source": [
        "### Exercise 12: String Parsing & Dictionaries\n",
        "\n",
        "> From the string of matches and results below, create a dictionary where each key is a country, and each value is the number of goals scored per country. For example, \"France,England,5,2\" means that France scored 5 goals and England scored 2 goals."
      ]
    },
    {
      "cell_type": "code",
      "execution_count": 33,
      "metadata": {
        "id": "pr3WsymF2dGT",
        "colab": {
          "base_uri": "https://localhost:8080/"
        },
        "outputId": "7602e584-b214-4f37-b165-795fc674c156"
      },
      "outputs": [
        {
          "output_type": "stream",
          "name": "stdout",
          "text": [
            "France England 5 2\n",
            "Spain Poland 3 2\n",
            "France Italy 2 0\n",
            "England Spain 1 3\n",
            "Germany England 1 1\n"
          ]
        }
      ],
      "source": [
        "matches = \"\"\"France,England,5,2\n",
        "Spain,Poland,3,2\n",
        "France,Italy,2,0\n",
        "England,Spain,1,3\n",
        "Germany,England,1,1\"\"\"\n",
        "\n",
        "scores = {}\n",
        "\n",
        "for line in matches.split(\"\\n\"):\n",
        "    # TODO: your code here\n",
        "    country1, country2, goals1, goals2 = line.split(\",\")\n",
        "    print(country1, country2, goals1, goals2)\n",
        "    if country1 not in scores:\n",
        "        scores[country1] = int(goals1)\n",
        "    else:\n",
        "        scores[country1] += int(goals1)\n",
        "    if country2 not in scores:\n",
        "        scores[country2] = int(goals2)\n",
        "    else:\n",
        "        scores[country2] += int(goals2)\n",
        "    pass\n",
        "\n",
        "# steps to solve this exercise:\n",
        "\n",
        "# step 1: split the string per line, and then within each line, per country and score\n",
        "# step 2: check if the countries are already in the scores dictionary; if not, add them to it\n",
        "# step 3: for each country, add the goals recorded in that line\n",
        "\n",
        "# this process must be iterative - use a for loop"
      ]
    },
    {
      "cell_type": "code",
      "execution_count": 34,
      "metadata": {
        "id": "OonQ4Nbb2dGT"
      },
      "outputs": [],
      "source": [
        "correct_scores = {\n",
        "    \"France\": 7,\n",
        "    \"England\": 4,\n",
        "    \"Spain\": 6,\n",
        "    \"Poland\": 2,\n",
        "    \"Italy\": 0,\n",
        "    \"Germany\": 1,\n",
        "}\n",
        "\n",
        "assert scores == correct_scores"
      ]
    },
    {
      "cell_type": "markdown",
      "metadata": {
        "id": "dykAyYPc2dGT"
      },
      "source": [
        "### Exercise 13: Sets\n",
        "\n",
        "Sets have some interesting properties. Each element within a set is unique, and two different sets can be compared to find where they overlap, and where they do not.\n",
        "\n",
        "Sets can be compared using:\n",
        "- `intersection()` or `&`: returns the intersection between two sets\n",
        "- `union()` or `|`: returns the union of two sets\n",
        "- `difference()` or `-`: returns the difference between two sets\n",
        "\n",
        "Check out how they work below!"
      ]
    },
    {
      "cell_type": "code",
      "execution_count": 35,
      "metadata": {
        "id": "YPV4ZVsg2dGT",
        "outputId": "5eed7e8a-0280-420f-d5e1-97d130de71dc",
        "colab": {
          "base_uri": "https://localhost:8080/"
        }
      },
      "outputs": [
        {
          "output_type": "stream",
          "name": "stdout",
          "text": [
            "{8}\n",
            "{8}\n",
            "{3, 4, 5, 6, 7, 8, 56}\n",
            "{3, 4, 5, 6, 7, 8, 56}\n",
            "{56, 3, 7}\n",
            "{4, 5, 6}\n",
            "{3, 4, 5, 6, 7, 56}\n"
          ]
        }
      ],
      "source": [
        "set1 = {3, 56, 7, 8}\n",
        "set2 = {4, 5, 6, 8}\n",
        "\n",
        "print(set1 & set2)\n",
        "print(set2 & set1)\n",
        "\n",
        "print(set1 | set2)\n",
        "print(set2 | set1)\n",
        "\n",
        "print(set1 - set2)\n",
        "print(set2 - set1)\n",
        "\n",
        "# what is this operation?\n",
        "print(set1 ^ set2)"
      ]
    },
    {
      "cell_type": "markdown",
      "metadata": {
        "id": "8-ACzbbH2dGT"
      },
      "source": [
        "> Two sets of genes are being studied for their involvement in Schizophrenia and Bipolar disorder. Both bipolar disorder are known to cause psychosis (to different extents), and some researchers want to see if there is any possible overlap between the two disorders from a genetic perspective.\n",
        ">\n",
        "> Help the scientists identify which genes are found to be involved in both disorders.\n",
        "\n",
        "Sources:\n",
        "- [Kegg Genes Database](https://www.genome.jp/kegg/genes.html)\n",
        "- [Specific genes involved in schizophrenia identified for the first time](https://www.ucl.ac.uk/news/2022/apr/specific-genes-involved-schizophrenia-identified-first-time)\n",
        "- [Genetics of bipolar disorder](https://www.ncbi.nlm.nih.gov/pmc/articles/PMC3966627/)\n",
        "\n",
        "**Warning**: the list below is a compilation of a couple different genes. The mechanisms of these disorders remain unclear, and it is not known how involved they may or may not be."
      ]
    },
    {
      "cell_type": "code",
      "execution_count": 36,
      "metadata": {
        "id": "N3OKJ29t2dGT"
      },
      "outputs": [],
      "source": [
        "risk_genes_schizophrenia = {\"AKAP11\", \"NRXN1\", \"SHANK3\", \"AKT1\", \"PRODH\", \"DRD3\"}\n",
        "risk_genes_bipolar = {\"AKAP11\", \"XBP1\", \"CACNA1C\", \"ODZ4\", \"NCAN\"}"
      ]
    },
    {
      "cell_type": "code",
      "execution_count": 37,
      "metadata": {
        "id": "x9XEs17Q2dGT",
        "colab": {
          "base_uri": "https://localhost:8080/"
        },
        "outputId": "b702c7cd-62d1-4b43-c1a4-9ba996b0fedb"
      },
      "outputs": [
        {
          "output_type": "stream",
          "name": "stdout",
          "text": [
            "{'AKAP11'}\n"
          ]
        }
      ],
      "source": [
        "# Which genes are found in both sets?\n",
        "\n",
        "genes_in_both = risk_genes_schizophrenia & risk_genes_bipolar\n",
        "print(genes_in_both)"
      ]
    },
    {
      "cell_type": "markdown",
      "metadata": {
        "id": "wUMYJWaa2dGT"
      },
      "source": [
        "### Exercise 14: `min()` and `max()`"
      ]
    },
    {
      "cell_type": "markdown",
      "metadata": {
        "id": "4AFfrZw42dGU"
      },
      "source": [
        "> You have been asked to process the data in a dictionary containing Wikipedia article names. You need to return the article with the longest introductory paragraph.\n",
        "\n",
        "**Hint**: use the `key` parameter. It may also be useful to create your own function (or use a lambda function if you're willing to research it and experiment)."
      ]
    },
    {
      "cell_type": "code",
      "execution_count": 38,
      "metadata": {
        "id": "CpB2z4HC2dGU"
      },
      "outputs": [],
      "source": [
        "wiki_articles = {\n",
        "    \"Wikipedia\": \"Wikipedia[note 3] is a multilingual free online encyclopedia written and maintained by a community of volunteers, known as Wikipedians, through open collaboration and using a wiki-based editing system called MediaWiki. Wikipedia is the largest and most-read reference work in history.[3] It is consistently one of the 10 most popular websites ranked by Similarweb and formerly Alexa; as of 2022, Wikipedia was ranked the 5th most popular site in the world.[4] It is hosted by the Wikimedia Foundation, an American non-profit organization funded mainly through donations.[5]\",\n",
        "    \"Portugal\": \"Portugal (Portuguese pronunciation: [puɾtuˈɣal]), officially the Portuguese Republic (Portuguese: República Portuguesa [ʁɛˈpuβlikɐ puɾtuˈɣezɐ]),[note 4] is a country located on the Iberian Peninsula, in southwestern Europe, and whose territory also includes the Atlantic archipelagos of the Azores and Madeira. It features the westernmost point in continental Europe, and its Iberian portion is bordered to the west and south by the Atlantic Ocean and to the north and east by Spain, the sole country to have a land border with Portugal. Its two archipelagos form two autonomous regions with their own regional governments. Lisbon is the capital and largest city by population.\",\n",
        "    \"Frank Sinatra\": \"Francis Albert Sinatra (/sɪˈnɑːtrə/; December 12, 1915 – May 14, 1998) was an American singer and actor. Nicknamed the 'Chairman of the Board' and later called \\\"Ol' Blue Eyes\\\", Sinatra was one of the most popular entertainers of the 1940s, 1950s, and 1960s. He is among the world's best-selling music artists with an estimated 150 million record sales.[1][2]\",\n",
        "    \"Growth Hormone-Releasing Hormone\": \"Growth hormone-releasing hormone (GHRH), also known as somatocrinin or by several other names in its endogenous forms and as somatorelin (INN) in its pharmaceutical form, is a releasing hormone of growth hormone (GH). It is a 44[1]-amino acid peptide hormone produced in the arcuate nucleus of the hypothalamus.\",\n",
        "    \"Beyoncé\": 'Beyoncé Giselle Knowles-Carter (/biˈɒnseɪ/ (listen) bee-ON-say;[4] born September 4, 1981)[5] is an American singer, songwriter, actress, and dancer. Beyoncé has been noted for her boundary-pushing artistry and her vocal ability.[6] Her success has made her a cultural icon and earned her the nickname \"Queen Bey\".[7]',\n",
        "    \"Everything Everywhere All at Once\": 'Everything Everywhere All at Once is a 2022 American absurdist comedy-drama film written and directed by Daniel Kwan and Daniel Scheinert (collectively known as Daniels), who produced it with Anthony and Joe Russo. The plot centers on a Chinese-American immigrant played by Michelle Yeoh who, while being audited by the IRS, discovers that she must connect with parallel universe versions of herself to prevent a powerful being from destroying the multiverse. Stephanie Hsu, Ke Huy Quan, Jenny Slate, Harry Shum Jr., James Hong, and Jamie Lee Curtis appear in supporting roles. The New York Times called the film a \"swirl of genre anarchy\" with elements of surreal comedy, science fiction, fantasy, martial arts films, and animation.',\n",
        "}"
      ]
    },
    {
      "cell_type": "code",
      "execution_count": 39,
      "metadata": {
        "id": "DjCfLf0V2dGU",
        "colab": {
          "base_uri": "https://localhost:8080/"
        },
        "outputId": "b4209943-d00c-407b-82a7-0cd0e3103dd1"
      },
      "outputs": [
        {
          "output_type": "stream",
          "name": "stdout",
          "text": [
            "Everything Everywhere All at Once is 733 characters long\n"
          ]
        }
      ],
      "source": [
        "longest_article_title = \"\"\n",
        "longest_article_length = 0\n",
        "for title, intro in wiki_articles.items():\n",
        "  if len(intro) > longest_article_length:\n",
        "    longest_article_title = title\n",
        "    longest_article_length = len(intro)\n",
        "\n",
        "print(f'{longest_article_title} is {longest_article_length} characters long')"
      ]
    },
    {
      "cell_type": "markdown",
      "metadata": {
        "id": "a9CoUXWX2dGU"
      },
      "source": [
        "> Now, using the same dictionary of Wikipedia articles, find the article with the smallest incidence of the letter \"a\" in the introductory paragraph (irrespective of capitalisation).\n",
        "\n",
        "**Hint**: the `key` parameter might help here again!"
      ]
    },
    {
      "cell_type": "code",
      "execution_count": 45,
      "metadata": {
        "id": "ZZJTIUdo2dGU",
        "colab": {
          "base_uri": "https://localhost:8080/"
        },
        "outputId": "048f9147-6297-486b-cd8e-db606125f6e4"
      },
      "outputs": [
        {
          "output_type": "stream",
          "name": "stdout",
          "text": [
            "Growth Hormone-Releasing Hormone 21\n",
            "{'Wikipedia': 41, 'Portugal': 45, 'Frank Sinatra': 29, 'Growth Hormone-Releasing Hormone': 21, 'Beyoncé': 21, 'Everything Everywhere All at Once': 49}\n"
          ]
        }
      ],
      "source": [
        "smallest_incidence_of_a_title = \"\"\n",
        "smallest_incidence_of_a_count = 1000  # best practice to do inf, but this good enough since we already know that max characters are 733\n",
        "all_length_a = {} # Store the occurences of 'a' in all the lists in a dictionary\n",
        "\n",
        "for title, intro in wiki_articles.items():\n",
        "    count = intro.lower().count('a') # Have to convert all letter to lowercase\n",
        "    all_length_a[title] = count # storing (could be useful for debugging if you are getting the wrong result)\n",
        "    if count < smallest_incidence_of_a_count:\n",
        "        smallest_incidence_of_a_count = count\n",
        "        smallest_incidence_of_a_title = title\n",
        "\n",
        "print(smallest_incidence_of_a_title, smallest_incidence_of_a_count)\n",
        "print(all_length_a) # both beyoncee and Growth Hormone-Releasing Hormone have 21 occurences of a."
      ]
    },
    {
      "cell_type": "code",
      "execution_count": 46,
      "metadata": {
        "id": "3kIajYdD2dGU"
      },
      "outputs": [],
      "source": [
        "assert smallest_incidence_of_a_title == \"Beyoncé\" or \"Growth Hormone-Releasing Hormone\""
      ]
    },
    {
      "cell_type": "markdown",
      "metadata": {
        "id": "FvDoNejk2dGU"
      },
      "source": [
        "### Exercise 15: Classes"
      ]
    },
    {
      "cell_type": "markdown",
      "metadata": {
        "id": "tr09aoye2dGU"
      },
      "source": [
        "> You have been tasked with creating a class to create animal characters for a video game. Each animal must have a name, an age, a weight, a super power, and a fatal flaw. Optionally, each animal can also have a short description that explains why it is unique.\n",
        ">\n",
        "> Create this class by completing the following code."
      ]
    },
    {
      "cell_type": "code",
      "execution_count": 42,
      "metadata": {
        "id": "bzmHQkC62dGU"
      },
      "outputs": [],
      "source": [
        "class Animal:\n",
        "    def __init__(self, name, age, weight, super_power, fatal_flaw):\n",
        "        self.name = name\n",
        "        self.age = age\n",
        "        self.weight = weight\n",
        "        self.super_power = super_power\n",
        "        self.fatal_flaw = fatal_flaw\n",
        "        pass\n",
        "\n",
        "    def __str__(self):\n",
        "        return f\"Hi, my name is {self.name}. I am {self.age} years old. My super power is {self.super_power}. My fatal flaw is {self.fatal_flaw}.\"\n",
        "\n",
        "    def get_description(self, characteristics):\n",
        "        return characteristics"
      ]
    },
    {
      "cell_type": "code",
      "execution_count": 43,
      "metadata": {
        "id": "L2X6Z0fK2dGU",
        "colab": {
          "base_uri": "https://localhost:8080/"
        },
        "outputId": "2801c9fd-0c0a-48bd-d2fe-49d2d68b96be"
      },
      "outputs": [
        {
          "output_type": "stream",
          "name": "stdout",
          "text": [
            "The kindest little thing in the world.\n"
          ]
        }
      ],
      "source": [
        "rhino = Animal(\"Rhino\", 3, 43, \"Charge\", \"Butterflies\")\n",
        "\n",
        "assert (\n",
        "    str(rhino)\n",
        "    == \"Hi, my name is Rhino. I am 3 years old. My super power is Charge. My fatal flaw is Butterflies.\"\n",
        ")\n",
        "\n",
        "print(rhino.get_description(\"The kindest little thing in the world.\"))\n",
        "\n",
        "assert rhino.get_description(\"The kindest little thing in the world.\") == \"The kindest little thing in the world.\""
      ]
    },
    {
      "cell_type": "markdown",
      "metadata": {
        "id": "DvBRtQ6i2dGU"
      },
      "source": [
        "Now, go back to where you define your class, and create some more functions. For example, the animal characters could have fighting modes, or could say things like \"It's a beautiful day in paradise\".\n",
        "\n",
        "Basically, have fun with it, test it out, and enjoy creating a world of your own."
      ]
    },
    {
      "cell_type": "markdown",
      "metadata": {
        "id": "C0qvM-JX2dGU"
      },
      "source": [
        "### Exercise 16: Explore\n",
        "\n",
        "> Congratulations &ndash; you may be at the start of your journey through the world of Python, but you have reached the end of the exercises in this notebook!\n",
        ">\n",
        "> Feel free to go on and explore the internet for *awesome* Python projects, this might be a great place to start: https://github.com/vinta/awesome-python"
      ]
    }
  ],
  "metadata": {
    "kernelspec": {
      "display_name": "Python 3 (ipykernel)",
      "language": "python",
      "name": "python3"
    },
    "language_info": {
      "codemirror_mode": {
        "name": "ipython",
        "version": 3
      },
      "file_extension": ".py",
      "mimetype": "text/x-python",
      "name": "python",
      "nbconvert_exporter": "python",
      "pygments_lexer": "ipython3",
      "version": "3.9.12"
    },
    "vscode": {
      "interpreter": {
        "hash": "aee8b7b246df8f9039afb4144a1f6fd8d2ca17a180786b69acc140d282b71a49"
      }
    },
    "colab": {
      "provenance": []
    }
  },
  "nbformat": 4,
  "nbformat_minor": 0
}