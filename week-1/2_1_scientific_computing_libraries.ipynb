{
 "cells": [
  {
   "cell_type": "markdown",
   "metadata": {},
   "source": [
    "# Scientific Computing Libraries"
   ]
  },
  {
   "cell_type": "markdown",
   "metadata": {},
   "source": [
    "## 2. Library 📚\n",
    "A library is a collection of precompiled codes that can be used later on in a program for some specific well-defined operations.\n"
   ]
  },
  {
   "cell_type": "markdown",
   "metadata": {},
   "source": [
    "### 2.1 Why use Libraries?\n",
    "\n",
    "1. Provides a layer of abstraction\n",
    "2. The operation is very fast (most of the time)\n",
    "3. Easy to implement (only need few lines of code)\n",
    "4. Maintainability"
   ]
  },
  {
   "cell_type": "markdown",
   "metadata": {},
   "source": [
    "In the following example, we are going to look how the usage of library can be very fast. The operation that we will execute is creating an ordered list with n entries, and square each element in the list"
   ]
  },
  {
   "cell_type": "code",
   "execution_count": null,
   "metadata": {},
   "outputs": [],
   "source": [
    "import numpy as np  # Import numpy library\n",
    "\n",
    "\n",
    "def numpy_method(n):\n",
    "    return np.arange(n) ** 2\n",
    "\n",
    "\n",
    "def for_loop_method(n):\n",
    "    result = []\n",
    "    for i in range(n):\n",
    "        result.append(i**2)\n",
    "\n",
    "\n",
    "%timeit numpy_method(1000)\n",
    "%timeit for_loop_method(1000)"
   ]
  },
  {
   "cell_type": "markdown",
   "metadata": {},
   "source": [
    "The output of the above cell from my computer is:\n",
    "- 1.32 µs ± 5.71 ns per loop (mean ± std. dev. of 7 runs, 1,000,000 loops each)\n",
    "- 211 µs ± 1.84 µs per loop (mean ± std. dev. of 7 runs, 1,000 loops each)\n",
    "\n",
    "From the output given, the NumPy method here is 200 times faster than our for loop method. This shows us the beauty of NumPy - once you get the hang of it, you will be able to get the performance of a low-level language (like C++), but with the ease of use of a high-level language like (Python).\n",
    "\n",
    "**Note**: If you re-run the above cell, you will observe different values, however, the ratio of times should be comparable."
   ]
  },
  {
   "cell_type": "markdown",
   "metadata": {},
   "source": [
    "### 2.2 Categories of Scientific Computing Libraries in Python\n",
    "\n",
    "#### Numerical Analysis\n",
    "- [NumPy](https://numpy.org)\n",
    "- [Pandas](https://pandas.pydata.org)\n",
    "\n",
    "#### Visualisation\n",
    "- [Matplotlib](https://matplotlib.org)\n",
    "- [Seaborn](https://seaborn.pydata.org)\n",
    "\n",
    "#### Machine Learning \n",
    "- [Scikit](https://scikit-learn.org/stable/) - Classical Machine Learning  \n",
    "- [TensorFlow](https://www.tensorflow.org)  - Deep Learning\n",
    "- [PyTorch](https://pytorch.org)    - Deep Learning\n",
    "\n",
    "We will be looking very briefly on each of the libraries on a different notebook. "
   ]
  },
  {
   "cell_type": "markdown",
   "metadata": {},
   "source": [
    "## 6. Final Words 🙌\n",
    "\n",
    "It's just the tip of the iceberg, and there's so much more to learn for each of the library. If you are interested to dive further, relevant links for each library are given below. Here are a few tips:\n",
    "- If you want more practical understanding, try do <b>EXERCISE</b> (notebook) (just search it in the web, you will find it)\n",
    "- If you want to briefly skim through the functionality of each library, refer <b>CHEAT SHEET</b> of the particular library\n",
    "- If you want to be a true master, make <b>DOCUMENTATION</b> as your best friend! Dive into the implementation of relevant method/function"
   ]
  },
  {
   "cell_type": "markdown",
   "metadata": {},
   "source": [
    "#### NumPy\n",
    "- [NumPy Quickstart Tutorial](https://numpy.org/devdocs/user/quickstart.html)\n",
    "- [NumPy Tutorial - *by Nicolas Rougier*](https://github.com/rougier/numpy-tutorial)\n",
    "- [Stanford CS231 - *by Justin Johnson*](https://cs231n.github.io/python-numpy-tutorial/)\n",
    "- [Cheat Sheet](https://s3.amazonaws.com/assets.datacamp.com/blog_assets/Numpy_Python_Cheat_Sheet.pdf)\n",
    "- [Documentation](https://numpy.org/doc/) \n",
    "\n",
    "#### Pandas\n",
    "- [Pandas Workshop - *by Stefanie Molin*](https://github.com/stefmolin/pandas-workshop)\n",
    "- [Pandas Cookbook - *by Julia Evans*](https://github.com/jvns/pandas-cookbook)\n",
    "- [Pandas Exercises - *by Guilherme Samora*](https://github.com/guipsamora/pandas_exercises)\n",
    "- [Cheat Sheet](https://pandas.pydata.org/Pandas_Cheat_Sheet.pdf)\n",
    "- [Documentation](https://pandas.pydata.org/docs/)\n",
    "\n",
    "#### Matplotlib\n",
    "- [Matplotlib Tutorial - *by Nicolas P. Rougier*](https://github.com/rougier/matplotlib-tutorial)\n",
    "- [Matplotlib Tutorial - *obtained from GeeksforGeeks*](https://www.geeksforgeeks.org/matplotlib-tutorial/)\n",
    "- [Cheat Sheet](https://matplotlib.org/cheatsheets/_images/cheatsheets-1.png)\n",
    "- [Documentation](https://matplotlib.org/stable/api/index)\n",
    "\n",
    "#### Seaborn\n",
    "- [Seaborn Tutorial in Python For Beginners](https://www.mygreatlearning.com/blog/seaborn-tutorial/#sh2)\n",
    "- [The Ultimate Python Seaborn Tutorial](https://elitedatascience.com/python-seaborn-tutorial#step-3) \n",
    "- [Cheat Sheet](https://s3.amazonaws.com/assets.datacamp.com/blog_assets/Python_Seaborn_Cheat_Sheet.pdf)\n",
    "- [Documentation](https://seaborn.pydata.org/api.html)\n",
    "\n",
    "#### Scikit\n",
    "\n",
    "- [Scikit-Learn Tutorials](https://scikit-learn.org/stable/tutorial/index.html)\n",
    "- [Kaggle - Scikit-learn From Start to Finish](https://www.kaggle.com/code/jeffd23/scikit-learn-ml-from-start-to-finish)\n",
    "- [Cheat Sheet](https://s3.amazonaws.com/assets.datacamp.com/blog_assets/Scikit_Learn_Cheat_Sheet_Python.pdf)\n",
    "- [Documentation](https://scikit-learn.org/stable/modules/classes.html)\n",
    "\n",
    "#### TensorFlow\n",
    "\n",
    "- [TensorFlow Quickstart](https://www.tensorflow.org/tutorials/quickstart/beginner)\n",
    "- [TensorFlow Tutorial](https://machinelearningmastery.com/tensorflow-tutorial-deep-learning-with-tf-keras/)\n",
    "- [Cheat Sheet](https://github.com/kailashahirwar/cheatsheets-ai/blob/master/PDFs/Tensorflow.pdf)\n",
    "- [Cheat Sheet](https://www.kaggle.com/getting-started/134439)\n",
    "- [Documentation](https://www.tensorflow.org/api_docs/python/tf)\n",
    "\n",
    "#### PyTorch\n",
    "- [PyTorch Quickstart](https://pytorch.org/tutorials/beginner/basics/quickstart_tutorial.html)\n",
    "- [Implement NN for Penguin Classification with PyTorch](https://github.com/rianrajagede/penguin-python/blob/master/Pytorch/penguin_pytorch.py)\n",
    "- [PyTorch vs TensorFlow](https://towardsdatascience.com/pytorch-vs-tensorflow-spotting-the-difference-25c75777377b)\n",
    "- [Cheat Sheet](https://www.stefanseegerer.de/media/pytorch-cheatsheet-EN.pdf)\n",
    "- [Documentation](https://pytorch.org/docs/stable/index.html)"
   ]
  }
 ],
 "metadata": {
  "kernelspec": {
   "display_name": "Python 3.9.10 ('ClimateHack')",
   "language": "python",
   "name": "python3"
  },
  "language_info": {
   "codemirror_mode": {
    "name": "ipython",
    "version": 3
   },
   "file_extension": ".py",
   "mimetype": "text/x-python",
   "name": "python",
   "nbconvert_exporter": "python",
   "pygments_lexer": "ipython3",
   "version": "3.9.10"
  },
  "orig_nbformat": 4,
  "vscode": {
   "interpreter": {
    "hash": "11841742d11f96be4de93e6e6c2ae1e3a22839abf86213b3c23c4bf0c62307b4"
   }
  }
 },
 "nbformat": 4,
 "nbformat_minor": 2
}
