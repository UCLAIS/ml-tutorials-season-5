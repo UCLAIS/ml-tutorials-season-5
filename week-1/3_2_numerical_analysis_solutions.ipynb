{
 "cells": [
  {
   "cell_type": "markdown",
   "metadata": {},
   "source": [
    "## 3. Numerical Analysis Libraries 🔢\n",
    "When doing any sort of machine learning end-to-end project, understanding the data is an integral part of the entire Machine Learning ecosystem. To achieve this with little effort, libraries such as NumPy and Pandas are essential."
   ]
  },
  {
   "cell_type": "markdown",
   "metadata": {},
   "source": [
    "### 3.1 NumPy\n",
    "NumPy (Numerical Python) is the core library for scientific computing in Python. It deals with mathematical computation and enables users to compute on multidimensional data structures more efficiently and easily."
   ]
  },
  {
   "cell_type": "markdown",
   "metadata": {},
   "source": [
    "#### 3.1.1 Housekeeping\n",
    "\n",
    "Before starting, make sure you have installed the NumPy package by executing this shell:"
   ]
  },
  {
   "cell_type": "code",
   "execution_count": null,
   "metadata": {},
   "outputs": [],
   "source": [
    "!pip install numpy"
   ]
  },
  {
   "cell_type": "code",
   "execution_count": null,
   "metadata": {},
   "outputs": [],
   "source": [
    "# Import NumPy library into the current Python workflow, and refer it as np (a convention)\n",
    "import numpy as np\n",
    "\n",
    "# Prints the current version of NumPy, this is useful when referring to the documentation\n",
    "print(np.__version__)"
   ]
  },
  {
   "cell_type": "markdown",
   "metadata": {},
   "source": [
    "#### 3.1.2 Initializing Arrays/Matrices\n",
    "\n",
    "NumPy offers a very intuitive way of representing matrices as multidimensional arrays. Shown below are some of the ways of initializing arrays/matrices:\n",
    "- `np.array()` : Create an array/matrix by specifying entry for each element\n",
    "- `np.ones()` : Create a matrix full of ones\n",
    "- `np.zeros()` : Create a matrix full of zeros\n",
    "- `np.eye()` : Create an identity matrix\n",
    "- `np.random.random()` : Create a matrix filled with random numbers between 0 and 1\n",
    "- `np.arange()` : Create an array in which its elements are in sorted order \n",
    "- `np.empty()` : Create a matrix placeholder\n",
    "\n",
    "Further documentation for NumPy is at https://numpy.org/doc/."
   ]
  },
  {
   "cell_type": "code",
   "execution_count": null,
   "metadata": {},
   "outputs": [],
   "source": [
    "# Create a 3x3 matrix full of ones\n",
    "\n",
    "B = np.ones((3, 3))\n",
    "print(\"Matrix B\")\n",
    "print(B)"
   ]
  },
  {
   "cell_type": "code",
   "execution_count": null,
   "metadata": {},
   "outputs": [],
   "source": [
    "# TODO: Create a 5x5 matrix full of zeros\n",
    "\n",
    "# Expected output:\n",
    "# [[ 0  0  0  0  0]\n",
    "#  [ 0  0  0  0  0]\n",
    "#  [ 0  0  0  0  0]\n",
    "#  [ 0  0  0  0  0]\n",
    "#  [ 0  0  0  0  0]]\n",
    "\n",
    "\n",
    "########################################################\n",
    "# INSERT YOUR ANSWER HERE\n",
    "\n",
    "C = np.zeros((5, 5))\n",
    "print(\"Matrix C\")\n",
    "print(C)\n",
    "\n",
    "########################################################"
   ]
  },
  {
   "cell_type": "code",
   "execution_count": null,
   "metadata": {},
   "outputs": [],
   "source": [
    "# TODO: Create a 2x2 identity matrix\n",
    "\n",
    "# Expected output:\n",
    "# [[ 1  0]\n",
    "#  [ 0  1]]\n",
    "\n",
    "\n",
    "########################################################\n",
    "# INSERT YOUR ANSWER HERE\n",
    "\n",
    "D = np.eye(2)\n",
    "print(\"Matrix D\")\n",
    "print(D)\n",
    "\n",
    "########################################################"
   ]
  },
  {
   "cell_type": "code",
   "execution_count": null,
   "metadata": {},
   "outputs": [],
   "source": [
    "# TODO: Create a 3x3 matrix filled with random numbers between 0 and 1\n",
    "\n",
    "# Expected output (seed = 41):\n",
    "#  [[0.25092362 0.04609582 0.67681624]\n",
    "#  [0.04346949 0.1164237  0.60386569]\n",
    "#  [0.19093066 0.66851572 0.91744785]]\n",
    "\n",
    "# Further information on what seed is and how NumPy generates a random number is given below:\n",
    "# https://www.w3schools.com/python/numpy/numpy_random.asp\n",
    "\n",
    "\n",
    "########################################################\n",
    "# INSERT YOUR ANSWER HERE\n",
    "\n",
    "np.random.seed(41)\n",
    "E = np.random.random((3, 3))\n",
    "print(\"\\nMatrix E\")\n",
    "print(E)\n",
    "\n",
    "########################################################"
   ]
  },
  {
   "cell_type": "code",
   "execution_count": null,
   "metadata": {},
   "outputs": [],
   "source": [
    "# TODO: Create an array which has 0-9 as its elements in sorted order\n",
    "\n",
    "# Expected output: [0, 1, 2, 3, 4, 5, 6, 7, 8, 9]\n",
    "\n",
    "\n",
    "########################################################\n",
    "# INSERT YOUR ANSWER HERE\n",
    "\n",
    "f = np.arange(10)\n",
    "print(\"\\nArray f\")\n",
    "print(f)\n",
    "\n",
    "########################################################"
   ]
  },
  {
   "cell_type": "code",
   "execution_count": null,
   "metadata": {},
   "outputs": [],
   "source": [
    "# TODO: Create a 5x3 matrix placeholder, without initializing entries (elements in the matrix)\n",
    "\n",
    "# Expected output (seed = 13):\n",
    "#    [[0.         0.         0.4472136 ]\n",
    "#    [0.0531494  0.18257419 0.4472136 ]\n",
    "#    [0.2125976  0.36514837 0.4472136 ]\n",
    "#    [0.4783446  0.54772256 0.4472136 ]\n",
    "#    [0.85039041 0.73029674 0.4472136 ]]\n",
    "\n",
    "\n",
    "########################################################\n",
    "# INSERT YOUR ANSWER HERE\n",
    "\n",
    "np.random.seed(13)\n",
    "G = np.empty((5, 3))\n",
    "print(\"\\nMatrix G\")\n",
    "print(G)\n",
    "\n",
    "########################################################"
   ]
  },
  {
   "cell_type": "markdown",
   "metadata": {},
   "source": [
    "#### 3.1.3 Matrix Operations\n",
    "\n",
    "In machine learning, we will deal with a lot of matrix calculations. It is therefore good for us to get accustomed to some of the common operations we perform on them. Here is a list of the first few:\n",
    "\n",
    "- `np.transpose(A)` : Find the transpose of array/matrix A\n",
    "- `A @ B` : Calculate the Dot product of matrix A and B\n",
    "- `np.linalg.inv(A)` : Calculate the inverse matrix of matrix A (only valid for square matrices, whose dimension is n * n)\n",
    "- `np.diagonal(A)` : Extract diagonal components of matrix A\n",
    "- `np.reshape(A, (x, y))` : Reshape matrix A into the given dimension which is (x, y)\n",
    "\n",
    "\n",
    "Now let's check what each of them does by filling in the cells below."
   ]
  },
  {
   "cell_type": "code",
   "execution_count": null,
   "metadata": {},
   "outputs": [],
   "source": [
    "# Initialise the data we will use below\n",
    "X = np.array([[3, 11, 1, 4], [7, 5, 2, 7], [6, 8, 9, 7], [0, 10, 4, 2]])\n",
    "print(X)"
   ]
  },
  {
   "cell_type": "code",
   "execution_count": null,
   "metadata": {},
   "outputs": [],
   "source": [
    "# TODO: Transpose the matrix\n",
    "\n",
    "# Expected output:\n",
    "# [[ 3  7  6  0]\n",
    "#  [11  5  8 10]\n",
    "#  [ 1  2  9  4]\n",
    "#  [ 4  7  7  2]]\n",
    "\n",
    "\n",
    "########################################################\n",
    "# INSERT YOUR ANSWER HERE\n",
    "\n",
    "X_transposed = np.transpose(X)\n",
    "print(X_transposed)\n",
    "\n",
    "########################################################"
   ]
  },
  {
   "cell_type": "code",
   "execution_count": null,
   "metadata": {},
   "outputs": [],
   "source": [
    "# TODO: Find the dot product of two matrices: original X and X_transposed\n",
    "\n",
    "# Expected output:\n",
    "#  [[147, 106, 143, 122],\n",
    "#   [106, 127, 149,  72],\n",
    "#   [143, 149, 230, 130],\n",
    "#   [122,  72, 130, 120]]\n",
    "\n",
    "\n",
    "########################################################\n",
    "# INSERT YOUR ANSWER HERE\n",
    "\n",
    "Y = X @ X_transposed\n",
    "print(Y)\n",
    "\n",
    "########################################################"
   ]
  },
  {
   "cell_type": "code",
   "execution_count": null,
   "metadata": {},
   "outputs": [],
   "source": [
    "# TODO: Calculate the inverse matrix of X\n",
    "\n",
    "# Expected output:\n",
    "#    [[ 1.38095238 -1.14285714  0.80952381 -1.5952381 ]\n",
    "#    [ 0.29365079 -0.21428571  0.1031746  -0.1984127 ]\n",
    "#    [ 0.07142857 -0.21428571  0.21428571 -0.14285714]\n",
    "#    [-1.61111111  1.5        -0.94444444  1.77777778]]\n",
    "\n",
    "\n",
    "########################################################\n",
    "# INSERT YOUR ANSWER HERE\n",
    "\n",
    "X_inverse = np.linalg.inv(X)\n",
    "print(X_inverse)\n",
    "\n",
    "########################################################"
   ]
  },
  {
   "cell_type": "code",
   "execution_count": null,
   "metadata": {},
   "outputs": [],
   "source": [
    "# TODO: Extract the diagonal elements of matrix X\n",
    "\n",
    "# Expected output: [3 5 9 2]\n",
    "\n",
    "\n",
    "########################################################\n",
    "# INSERT YOUR ANSWER HERE\n",
    "\n",
    "diagonal = np.diag(X)\n",
    "print(diagonal)\n",
    "\n",
    "########################################################"
   ]
  },
  {
   "cell_type": "code",
   "execution_count": null,
   "metadata": {},
   "outputs": [],
   "source": [
    "# TODO: Reshape matrix X to one that has 8 rows and 2 columns\n",
    "\n",
    "# Expected output:\n",
    "#    [[ 3 11]\n",
    "#    [ 1  4]\n",
    "#    [ 7  5]\n",
    "#    [ 2  7]\n",
    "#    [ 6  8]\n",
    "#    [ 9  7]\n",
    "#    [ 0 10]\n",
    "#    [ 4  2]]\n",
    "\n",
    "\n",
    "########################################################\n",
    "# INSERT YOUR ANSWER HERE\n",
    "\n",
    "X_reshaped = X.reshape((8, 2))\n",
    "print(X_reshaped)\n",
    "\n",
    "########################################################"
   ]
  },
  {
   "cell_type": "markdown",
   "metadata": {},
   "source": [
    "#### 3.1.4 Statistics in NumPy\n",
    "\n",
    "When we deal with large amounts of data, we often want to know some information about the data as a whole. This is where NumPy comes to the rescue. Most of them are self-explanatory:\n",
    "\n",
    "- `np.sum(b)` : Sum of all elements in an array/matrix b (if b is a matrix, you need to specify which\n",
    "                      axes it is acting upon, whether you want to add it column-wise or row-wise)\n",
    "- `np.max(b)` : Find the maximum element in array/matrix b\n",
    "- `np.min(b)` : Find the minimum element in array/matrix b\n",
    "- `np.mean(b)` : Mean of elements in an array/matrix b\n",
    "- `np.median(b)` : Median value among elements in array/matrix b\n",
    "- `np.var(b)` : Variance of the elements in the array/matrix b\n",
    "- `np.std(b)` : Standard deviation of the elements in the array/matrix b\n",
    "\n",
    "As before, fill in the cells below to get used to these functions."
   ]
  },
  {
   "cell_type": "code",
   "execution_count": null,
   "metadata": {},
   "outputs": [],
   "source": [
    "x = np.array([34, 56, 6, 3, 9, 89, 120, 12, 201], dtype=np.int32)\n",
    "print(x)"
   ]
  },
  {
   "cell_type": "code",
   "execution_count": null,
   "metadata": {},
   "outputs": [],
   "source": [
    "# TODO: Find the summation of all elements\n",
    "# Expected output: 530\n",
    "\n",
    "\n",
    "########################################################\n",
    "# INSERT YOUR ANSWER HERE\n",
    "\n",
    "summation = np.sum(x)\n",
    "print(summation)\n",
    "\n",
    "########################################################"
   ]
  },
  {
   "cell_type": "code",
   "execution_count": null,
   "metadata": {},
   "outputs": [],
   "source": [
    "# TODO: Maximum element in the array\n",
    "# Expected output: 201\n",
    "\n",
    "\n",
    "########################################################\n",
    "# INSERT YOUR ANSWER HERE\n",
    "\n",
    "maximum = np.max(x)\n",
    "print(maximum)\n",
    "\n",
    "########################################################"
   ]
  },
  {
   "cell_type": "code",
   "execution_count": null,
   "metadata": {},
   "outputs": [],
   "source": [
    "# TODO: Minimum element in the array\n",
    "# Expected output: 3\n",
    "\n",
    "\n",
    "########################################################\n",
    "# INSERT YOUR ANSWER HERE\n",
    "\n",
    "minimum = np.min(x)\n",
    "print(minimum)\n",
    "\n",
    "########################################################"
   ]
  },
  {
   "cell_type": "code",
   "execution_count": null,
   "metadata": {},
   "outputs": [],
   "source": [
    "# TODO: Average value of elements in the array\n",
    "# Expected output: 58.89\n",
    "\n",
    "\n",
    "########################################################\n",
    "# INSERT YOUR ANSWER HERE\n",
    "\n",
    "mean = x.mean()\n",
    "print(mean)\n",
    "\n",
    "########################################################"
   ]
  },
  {
   "cell_type": "code",
   "execution_count": null,
   "metadata": {},
   "outputs": [],
   "source": [
    "# TODO: Median element in the array\n",
    "# Expected output: 34.0\n",
    "\n",
    "\n",
    "########################################################\n",
    "# INSERT YOUR ANSWER HERE\n",
    "\n",
    "variation = np.median(x)\n",
    "print(variation)\n",
    "\n",
    "########################################################"
   ]
  },
  {
   "cell_type": "code",
   "execution_count": null,
   "metadata": {},
   "outputs": [],
   "source": [
    "# TODO: Variance of x\n",
    "# Expected output: 4008.098765432099\n",
    "\n",
    "\n",
    "########################################################\n",
    "# INSERT YOUR ANSWER HERE\n",
    "\n",
    "variance = np.var(x)\n",
    "print(variance)\n",
    "\n",
    "########################################################"
   ]
  },
  {
   "cell_type": "code",
   "execution_count": null,
   "metadata": {},
   "outputs": [],
   "source": [
    "# TODO: Standard deviation of the array\n",
    "# Expected output: 63.3095471902311\n",
    "\n",
    "\n",
    "########################################################\n",
    "# INSERT YOUR ANSWER HERE\n",
    "\n",
    "std = np.std(x)\n",
    "print(std)\n",
    "\n",
    "########################################################"
   ]
  },
  {
   "cell_type": "markdown",
   "metadata": {},
   "source": [
    "#### 3.1.5 Further Resources\n",
    "Shown below are some further resources you can use to improve your knowledge of NumPy:\n",
    "- [NumPy Quickstart Tutorial](https://numpy.org/devdocs/user/quickstart.html)\n",
    "- [NumPy Tutorial - *by Nicolas Rougier*](https://github.com/rougier/numpy-tutorial)\n",
    "- [Stanford CS231 - *by Justin Johnson*](https://cs231n.github.io/python-numpy-tutorial/)\n",
    "- [Cheat Sheet](https://s3.amazonaws.com/assets.datacamp.com/blog_assets/Numpy_Python_Cheat_Sheet.pdf)\n",
    "- [Documentation](https://numpy.org/doc/) "
   ]
  },
  {
   "cell_type": "markdown",
   "metadata": {},
   "source": [
    "### 3.2 Pandas\n",
    "\n",
    "Pandas is another library that is commonly used. It is built on top of another package named NumPy. It is mostly known for its data wrangling ability and can be easily integrated with other data science modules in Python.\n",
    "\n",
    "##### What Can You Do With DataFrames Using Pandas?\n",
    "\n",
    "Pandas makes it simple to do many of the time-consuming, repetitive tasks associated with working with data, including:\n",
    "- Data cleansing\n",
    "- Data fill\n",
    "- Data normalization\n",
    "- Merges and joins\n",
    "- Statistical analysis\n",
    "- Data inspection\n",
    "- Loading and saving data\n",
    "- And much more..."
   ]
  },
  {
   "cell_type": "markdown",
   "metadata": {},
   "source": [
    "#### 3.2.1 Housekeeping\n",
    "Make sure you've installed the Pandas library:"
   ]
  },
  {
   "cell_type": "code",
   "execution_count": null,
   "metadata": {},
   "outputs": [],
   "source": [
    "!pip install pandas"
   ]
  },
  {
   "cell_type": "code",
   "execution_count": null,
   "metadata": {},
   "outputs": [],
   "source": [
    "# Import Pandas library into the current Python workflow, and refer it as pd (a convention)\n",
    "import pandas as pd\n",
    "\n",
    "# Prints the current version of Pandas, this is useful when referring to the documentation\n",
    "print(pd.__version__)"
   ]
  },
  {
   "cell_type": "markdown",
   "metadata": {},
   "source": [
    "#### 3.2.2 Series\n",
    "A Series in Pandas is a one dimensional array consisting of the same data type.\n",
    "\n",
    "Properties: index, values, dtype\n",
    "\n",
    "To create a Series, use the function below:\n",
    "- `pd.Series()`"
   ]
  },
  {
   "cell_type": "code",
   "execution_count": null,
   "metadata": {},
   "outputs": [],
   "source": [
    "# Creating a Series by passing a list of values, alongside with its index:\n",
    "s1 = pd.Series([1, 3, 5, np.nan, 6, 8], index=[\"A\", \"B\", \"C\", \"D\", \"E\", \"F\"])\n",
    "print(\"-----Series 1-----\\n\", s1, \"\\n\")\n",
    "\n",
    "# Creating a Series by passing a variable of list, alongside providing its index\n",
    "data = [1, 2, 3]\n",
    "index = [\"X\", \"Y\", \"Z\"]\n",
    "s2 = pd.Series(data=data, index=index, name=\"series\")\n",
    "print(\"-----Series 2-----\\n\", s2, \"\\n\")\n",
    "\n",
    "# Creating a Series by passing a list of values, letting pandas create a default integer index:\n",
    "s3 = pd.Series([1, 3, 5, np.nan, 6, 8], index=[\"A\", \"B\", \"C\", \"D\", \"E\", \"F\"])\n",
    "print(\"-----Series 3-----\\n\", s3, \"\\n\")\n",
    "\n",
    "# Creating a Series by passing a list of dictionaries\n",
    "s4 = pd.Series(data={\"a\": 1, \"b\": 2, \"c\": 3})\n",
    "print(\"-----Series 4-----\\n\", s4, \"\\n\")"
   ]
  },
  {
   "cell_type": "code",
   "execution_count": null,
   "metadata": {},
   "outputs": [],
   "source": [
    "# Further information contained in 's1'\n",
    "print(\"-----Series 1-----\\n\")\n",
    "print(\"example.name:\\n\", s1.name, \"\\n\")\n",
    "print(\"example.values:\\n\", s1.values, \"\\n\")\n",
    "print(\"example.dtypes:\\n\", s1.dtypes, \"\\n\")"
   ]
  },
  {
   "cell_type": "markdown",
   "metadata": {},
   "source": [
    "#### 3.2.3 DataFrame\n",
    "\n",
    "A DataFrame is the bread and butter of Pandas. It consists of two-dimensional tabular data.\n",
    "\n",
    "Properties: index, column, values, dtype\n",
    "\n",
    "To create a DataFrame, use the function below:\n",
    "- `pd.DataFrame()`"
   ]
  },
  {
   "cell_type": "code",
   "execution_count": null,
   "metadata": {},
   "outputs": [],
   "source": [
    "# Creating a DataFrame by passing a NumPy array and labeled columns:\n",
    "df1 = pd.DataFrame(\n",
    "    np.random.randn(6, 4), columns=[\"Price1\", \"Price2\", \"Price3\", \"Price4\"]\n",
    ")\n",
    "print(\"-----DataFrame 1-----\\n\", df1, \"\\n\")\n",
    "\n",
    "# Creating a DataFrame by passing a dictionary of objects that can be converted into a series-like structure:\n",
    "df2 = pd.DataFrame(\n",
    "    {\n",
    "        \"A\": 1.0,\n",
    "        \"B\": pd.Timestamp(\"20130102\"),\n",
    "        \"C\": pd.Series(1, index=list(range(4)), dtype=\"float32\"),\n",
    "        \"D\": np.array([3] * 4, dtype=\"int32\"),\n",
    "        \"E\": pd.Categorical([\"test\", \"train\", \"test\", \"train\"]),\n",
    "        \"F\": \"foo\",\n",
    "    }\n",
    ")\n",
    "print(\"-----DataFrame 2-----\\n\", df2, \"\\n\")"
   ]
  },
  {
   "cell_type": "markdown",
   "metadata": {},
   "source": [
    "#### 3.2.4 Reading File and Export DataFrame\n",
    "In a real project, we will mostly be using a provided dataset. Hence, we need a way of importing that data (CSV/HDF5/Excel) into a DataFrame so that it can be easily processed and manipulated later. On top of that, we will also want a way to export our processed data into some file\n",
    "\n",
    "Function for importing a dataset is: \n",
    "- `pd.read_csv()`\n",
    "- `pd.read_hdf()`\n",
    "- `pd.read_excel()`\n",
    "\n",
    "Function for exporting a DataFrame is: \n",
    "- `pd.DataFrame.to_csv()`\n",
    "- `pd.DataFrame.to_hdf()`\n",
    "- `pd.DataFrame.to_excel()`"
   ]
  },
  {
   "cell_type": "code",
   "execution_count": null,
   "metadata": {},
   "outputs": [],
   "source": [
    "df_import = pd.read_csv(\n",
    "    \"username.csv\", sep=\";\"\n",
    ")  # Import a CSV file called 'username.csv'\n",
    "df_import.head()  # Show the first 5 dataset"
   ]
  },
  {
   "cell_type": "code",
   "execution_count": null,
   "metadata": {},
   "outputs": [],
   "source": [
    "df_import.to_csv(\n",
    "    \"username2.csv\"\n",
    ")  # Export a DataFrame into a file called 'username2.csv'"
   ]
  },
  {
   "cell_type": "markdown",
   "metadata": {},
   "source": [
    "#### 3.2.5 Data Manipulation\n",
    "When your data is loaded into a DataFrame, there are endless things you can do with your data, such as:\n",
    "- Reshaping\n",
    "- Slicing \n",
    "- Querying (take a subset of the data that meets certain criteria)\n",
    "- Handling missing data (very handy for data preprocessing)\n",
    "- Summarizing\n",
    "\n",
    "Below are some of the functions you can call to execute the aforementioned functionality: \n",
    "- `df.sort_index()` : Sort by the index of the DataFrame\n",
    "- `df.sort_values()` : Sort the DataFrame by the value in particular column\n",
    "- `df.drop(columns=['A’, 'B'])` : Drop columns from the DataFrame\n",
    "- `df.head(n)` : Select first n rows; Default: n = 5\n",
    "- `df.tail(n)` : Select last n rows; Default: n = 5\n",
    "- `df.loc` : Access a group of rows and columns by label(s) or a boolean array.\n",
    "- `df.iloc` :  Access a group of rows and columns by position/index\n",
    "- `df.sample(n)` : Randomly select n rows.\n",
    "- `df[['A'],['B']]` : Select multiple columns with specific names (show only column 'A' and column 'B')\n",
    "- `df.query('A > 7')` : Take the rows that meet specified criteria (row at which the value of column A is greater than 7)\n",
    "- `df.dropna()` : Drop rows with any column having NA/null data.\n",
    "- `df.fillna(value)` : Replace all NA/null data with value.\n",
    "- `len(df)` : Return the number of rows in the DataFrame.\n",
    "- `df.shape` : Return a tuple of the number of rows, and the number of columns in the DataFrame\n",
    "- `df.describe()` : Provide a basic description and statistics for each column"
   ]
  },
  {
   "cell_type": "code",
   "execution_count": null,
   "metadata": {},
   "outputs": [],
   "source": [
    "# Initialise the data we will use below\n",
    "df = pd.read_csv(\"username.csv\", sep=\";\")  # Import a CSV file called 'username.csv'\n",
    "display(df)"
   ]
  },
  {
   "cell_type": "code",
   "execution_count": null,
   "metadata": {},
   "outputs": [],
   "source": [
    "# TODO: Find the shape of the DataFrame df\n",
    "\n",
    "# Expected output: (10, 5)\n",
    "\n",
    "\n",
    "########################################################\n",
    "# INSERT YOUR ANSWER HERE\n",
    "\n",
    "print(df.shape)\n",
    "\n",
    "########################################################"
   ]
  },
  {
   "cell_type": "code",
   "execution_count": null,
   "metadata": {},
   "outputs": [],
   "source": [
    "# TODO: Extract the first 3 rows of the DataFrame\n",
    "\n",
    "# Expected output:\n",
    "# \t    Username\t    Identifier\tFirst name\tLast name\n",
    "#    0\talpha01\t        1035\t    Romane\t    Alpha\n",
    "#    1\tbooker12\t    9012\t    Rachel\t    Booker\n",
    "#    2\tgrey07\t        2070\t    Laura\t    Grey\n",
    "\n",
    "\n",
    "########################################################\n",
    "# INSERT YOUR ANSWER HERE\n",
    "\n",
    "df_extract1 = df.head(3)\n",
    "display(df_extract1)\n",
    "\n",
    "########################################################"
   ]
  },
  {
   "cell_type": "code",
   "execution_count": null,
   "metadata": {},
   "outputs": [],
   "source": [
    "# TODO: Extract data in rows 3-6\n",
    "\n",
    "# Expected outcome:\n",
    "#       Username          Identifier    First name  Last name   Age\n",
    "#    3  hedgehogger14     2456          Joe         Hogger      26\n",
    "#    4  johnson81         4081          Craig       Johnson     43\n",
    "#    5  jenkins46         9346          Mary        Jenkins     62\n",
    "#    6  smith79           5079          Jamie       Smith       17\n",
    "\n",
    "\n",
    "########################################################\n",
    "# INSERT YOUR ANSWER HERE\n",
    "\n",
    "df_extract2 = df.iloc[3:7]\n",
    "display(df_extract2)\n",
    "\n",
    "########################################################"
   ]
  },
  {
   "cell_type": "code",
   "execution_count": null,
   "metadata": {},
   "outputs": [],
   "source": [
    "# TODO: Produce a basic statistical description of the DataFrame\n",
    "\n",
    "# Expected outcome:\n",
    "#       \tIdentifier\t    Age\n",
    "#   count\t10.000000\t    10.000000\n",
    "#   mean\t5220.900000\t    32.500000\n",
    "#   std\t    3587.123529\t    14.908983\n",
    "#   min\t    1035.000000\t    13.000000\n",
    "#   25%\t    2166.500000\t    22.000000\n",
    "#   50%\t    4580.000000\t    30.500000\n",
    "#   75%\t    8827.500000\t    41.750000\n",
    "#   max\t    9821.000000\t    62.000000\n",
    "\n",
    "\n",
    "########################################################\n",
    "# INSERT YOUR ANSWER HERE\n",
    "\n",
    "display(df.describe())\n",
    "\n",
    "########################################################"
   ]
  },
  {
   "cell_type": "code",
   "execution_count": null,
   "metadata": {},
   "outputs": [],
   "source": [
    "# TODO: Extract the last 3 rows with only 'Username' and 'Identifier' as its column\n",
    "\n",
    "# Expected outcome:\n",
    "#       Username\t        Identifier\n",
    "#   7\tmidnighteagle10\t    8274\n",
    "#   8\tmavericky00     \t1035\n",
    "#   9\tlaxman10\t        9821\n",
    "\n",
    "\n",
    "########################################################\n",
    "# INSERT YOUR ANSWER HERE\n",
    "\n",
    "df_extract3 = df.tail(3)[[\"Username\", \"Identifier\"]]\n",
    "display(df_extract3)\n",
    "\n",
    "########################################################"
   ]
  },
  {
   "cell_type": "code",
   "execution_count": null,
   "metadata": {},
   "outputs": [],
   "source": [
    "# TODO: Sort the DataFrame df by age in descending order\n",
    "\n",
    "# Expected outcome:\n",
    "#       Username        Identifier  First name  Last name   Age\n",
    "#   5   jenkins46       9346        Mary        Jenkins     62\n",
    "#   4   johnson81       4081        Craig       Johnson     43\n",
    "#   2   grey07          2070        Laura       Grey        42\n",
    "#   9   laxman10        9821        Trevor      Dos         41\n",
    "#   8   mavericky00     1035        Thomas      Maverick    35\n",
    "#   3   hedgehogger14   2456        Joe         Hogger      26\n",
    "#   7   midnighteagle10 8274        Donald      Eagle       25\n",
    "#   0   alpha01         1035        Romane      Alpha       21\n",
    "#   6   smith79         5079        Jamie       Smith       17\n",
    "#   1   booker12        9012        Rachel      Booker      13\n",
    "\n",
    "\n",
    "########################################################\n",
    "# INSERT YOUR ANSWER HERE\n",
    "\n",
    "df_sorted = df.sort_values(by=[\"Age\"], ascending=False)\n",
    "display(df_sorted)\n",
    "\n",
    "########################################################"
   ]
  },
  {
   "cell_type": "code",
   "execution_count": null,
   "metadata": {},
   "outputs": [],
   "source": [
    "# TODO: Find data in which the identifier is greater than 8000\n",
    "\n",
    "#   \tUsername\t    Identifier\tFirst name\tLast name\tAge\n",
    "#   1\tbooker12\t    9012\t    Rachel\t    Booker\t    13\n",
    "#   5\tjenkins46\t    9346\t    Mary\t    Jenkins\t    62\n",
    "#   7\tmidnighteagle10\t8274\t    Donald\t    Eagle\t    25\n",
    "#   9\tlaxman10\t    9821\t    Trevor\t    Dos\t        41\n",
    "\n",
    "\n",
    "########################################################\n",
    "# INSERT YOUR ANSWER HERE\n",
    "\n",
    "display(df.query(\"Identifier > 8000\"))\n",
    "\n",
    "########################################################"
   ]
  },
  {
   "cell_type": "markdown",
   "metadata": {},
   "source": [
    "#### 3.2.6 Further Resources\n",
    "\n",
    "Shown below are some further resources you can use to improve your knowledge of Pandas:\n",
    "- [Pandas Workshop - *by Stefanie Molin*](https://github.com/stefmolin/pandas-workshop)\n",
    "- [Pandas Cookbook - *by Julia Evans*](https://github.com/jvns/pandas-cookbook)\n",
    "- [Pandas Exercises - *by Guilherme Samora*](https://github.com/guipsamora/pandas_exercises)\n",
    "- [Cheat Sheet](https://pandas.pydata.org/Pandas_Cheat_Sheet.pdf)\n",
    "- [Documentation](https://pandas.pydata.org/docs/)"
   ]
  }
 ],
 "metadata": {
  "kernelspec": {
   "display_name": "Python 3.9.10 ('ClimateHack')",
   "language": "python",
   "name": "python3"
  },
  "language_info": {
   "codemirror_mode": {
    "name": "ipython",
    "version": 3
   },
   "file_extension": ".py",
   "mimetype": "text/x-python",
   "name": "python",
   "nbconvert_exporter": "python",
   "pygments_lexer": "ipython3",
   "version": "3.9.10"
  },
  "orig_nbformat": 4,
  "vscode": {
   "interpreter": {
    "hash": "11841742d11f96be4de93e6e6c2ae1e3a22839abf86213b3c23c4bf0c62307b4"
   }
  }
 },
 "nbformat": 4,
 "nbformat_minor": 2
}
