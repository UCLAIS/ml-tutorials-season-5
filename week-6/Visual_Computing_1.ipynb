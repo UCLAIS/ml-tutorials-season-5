{
  "cells": [
    {
      "cell_type": "markdown",
      "metadata": {
        "id": "6ANX36xbCLjL"
      },
      "source": [
        "# Week 5: Visual Computing Part I\n",
        "\n",
        "What is Visual Computing? It is a field in Computer Science that involves analysing and synthesising visual data. This may include vision, graphics, and geometric processing. For our course, we will focus on the ML implementations of visual computing: image representation and preprocessing, image analysis wiith CNN and the kernel, exploring classic CNN architectures, and seeing how this can be applied in code to real world problems.\n"
      ]
    },
    {
      "cell_type": "markdown",
      "metadata": {
        "id": "JMUYnmufCLjO"
      },
      "source": [
        "## Image Classification with CNN\n",
        "In the example below, we will emonstrate how we can first load 1-channel greyscale images into a dataset, how to use kernels to manipulate images, and lastly how to train a CNN model with the dataset.\n",
        "\n",
        "We will demonstrate how to classify Fashion MNIST images using pytorch and followingthe ML workflow.\n",
        "\n",
        "![title](./media/ML-workflow.png)"
      ]
    },
    {
      "cell_type": "code",
      "execution_count": 1,
      "metadata": {
        "id": "uu70JhyfCLjP"
      },
      "outputs": [],
      "source": [
        "# Import relevant libraries\n",
        "import os\n",
        "import numpy as np\n",
        "import matplotlib.pyplot as plt\n",
        "\n",
        "# Import relevant PyTorch classes\n",
        "import torch\n",
        "from torch import nn\n",
        "from torch.utils.data import DataLoader\n",
        "import torch.nn.functional as F\n",
        "import torchvision\n",
        "from torchvision.transforms import ToTensor \n",
        "import torch.optim as optim"
      ]
    },
    {
      "cell_type": "markdown",
      "metadata": {
        "id": "iwtfAkjDCLjQ"
      },
      "source": [
        "We need to check if CUDA is available. This is important because CUDA is required to accelerate image processing as it provides a platform for providing the parallel computing power of GPUs."
      ]
    },
    {
      "cell_type": "code",
      "execution_count": 99,
      "metadata": {
        "id": "-Bs9GGqzCLjR"
      },
      "outputs": [],
      "source": [
        "device = torch.device(\"cuda\" if torch.cuda.is_available() else \"cpu\")"
      ]
    },
    {
      "cell_type": "markdown",
      "metadata": {
        "id": "9-FmjwvGCLjR"
      },
      "source": [
        "## Data Loading\n",
        "\n",
        "The [Fashion-MNIST](https://www.kaggle.com/datasets/zalando-research/fashionmnist) dataset contains 60,000 training images and 10,000 test images. Each is 28 x 28 greyscale image with a label representing one of 10 fashion classes. We can access this from the torchvision.datasets package."
      ]
    },
    {
      "cell_type": "code",
      "execution_count": 100,
      "metadata": {
        "colab": {
          "base_uri": "https://localhost:8080/"
        },
        "id": "k88OdcM7CLjS",
        "outputId": "82e9f2ba-fe7d-4227-edd3-0d9b4096d866"
      },
      "outputs": [],
      "source": [
        "batch_size = 5\n",
        "train_dataset = torchvision.datasets.FashionMNIST(root='data/', train=True, download=True, transform=ToTensor())\n",
        "train_dataloader = DataLoader(train_dataset, batch_size=batch_size, shuffle=True)\n",
        "test_dataset = torchvision.datasets.FashionMNIST(root='data/', train=False, transform=ToTensor())\n",
        "test_dataloader = DataLoader(test_dataset, batch_size=batch_size, shuffle=True)"
      ]
    },
    {
      "cell_type": "markdown",
      "metadata": {
        "id": "To9aA6ZnCLjT"
      },
      "source": [
        "## Data Understanding & Visualisation\n",
        "\n",
        "In this section we will demonstrate how to view the dataset to better understand it and see how we can format it as input to train our model. This will gives us an idea on the kind of model, the hyperparameters and loss functions we can choose to solve our classification problem."
      ]
    },
    {
      "cell_type": "code",
      "execution_count": 101,
      "metadata": {},
      "outputs": [],
      "source": [
        "labels_map  = {\n",
        "    0: \"T-shirt/Top\",\n",
        "    1: \"Trouser\",\n",
        "    2: \"Pullover\",\n",
        "    3: \"Dress\",\n",
        "    4: \"Coat\", \n",
        "    5: \"Sandal\", \n",
        "    6: \"Shirt\",\n",
        "    7: \"Sneaker\",\n",
        "    8: \"Bag\",\n",
        "    9: \"Ankle Boot\"\n",
        "}"
      ]
    },
    {
      "cell_type": "code",
      "execution_count": 102,
      "metadata": {
        "colab": {
          "base_uri": "https://localhost:8080/"
        },
        "id": "PDQzFGdtCLjT",
        "outputId": "4154b207-8940-45ed-f78b-7fc190487190"
      },
      "outputs": [
        {
          "name": "stdout",
          "output_type": "stream",
          "text": [
            "60000\n",
            "Label of first sample: Ankle Boot\n",
            "Shape of first sample: torch.Size([1, 28, 28])\n"
          ]
        },
        {
          "data": {
            "text/plain": [
              "<matplotlib.image.AxesImage at 0x7fea1047f6d0>"
            ]
          },
          "execution_count": 102,
          "metadata": {},
          "output_type": "execute_result"
        },
        {
          "data": {
            "image/png": "[encoded data removed]",
            "text/plain": [
              "<Figure size 432x288 with 1 Axes>"
            ]
          },
          "metadata": {
            "needs_background": "light"
          },
          "output_type": "display_data"
        }
      ],
      "source": [
        "# Get first sample\n",
        "print(len(train_dataset))\n",
        "image, label = train_dataset[0]\n",
        "\n",
        "# Get label of sample\n",
        "print(f\"Label of first sample: {labels_map[label]}\")\n",
        "\n",
        "# Print image of first sample\n",
        "print(f\"Shape of first sample: {image.shape}\")\n",
        "\n",
        "plt.imshow(image.squeeze(), cmap=\"gray\")"
      ]
    },
    {
      "cell_type": "code",
      "execution_count": 103,
      "metadata": {
        "colab": {
          "base_uri": "https://localhost:8080/",
          "height": 675
        },
        "id": "7Psxuy33CLjU",
        "outputId": "6b58d35d-f7df-43a7-d07d-2e0ca1b7ea38"
      },
      "outputs": [
        {
          "data": {
            "image/png": "[encoded data removed]",
            "text/plain": [
              "<Figure size 576x576 with 9 Axes>"
            ]
          },
          "metadata": {
            "needs_background": "light"
          },
          "output_type": "display_data"
        }
      ],
      "source": [
        "# Show images and their labels\n",
        "\n",
        "figure = plt.figure(figsize=(8, 8))\n",
        "cols, rows = 3, 3\n",
        "for i in range(1, cols * rows + 1):\n",
        "    sample_idx = torch.randint(len(train_dataset), size=(1,)).item()\n",
        "    img, label = train_dataset[sample_idx]\n",
        "    figure.add_subplot(rows, cols, i)\n",
        "    plt.title(labels_map[label])\n",
        "    plt.axis(\"off\")\n",
        "    plt.imshow(img.squeeze(), cmap=\"gray\")\n",
        "plt.show()"
      ]
    },
    {
      "cell_type": "markdown",
      "metadata": {
        "id": "oJq16CnNg_rf"
      },
      "source": [
        "## Constructing CNN\n",
        "Now that we have done all of the required preprocessing steps, we can proceed to the most exciting stage, which is constructing the neural network. For this, we will build a convolutional neural network, which is a popular neural network architecture in the domain of computer vision."
      ]
    },
    {
      "cell_type": "code",
      "execution_count": 104,
      "metadata": {},
      "outputs": [],
      "source": [
        "# This format follows the structure shown in the Pytorch documentation\n",
        "\n",
        "class Net(nn.Module):\n",
        "    def __init__(self):\n",
        "        super().__init__()\n",
        "        self.conv1 = nn.Conv2d(1, 6, 5)\n",
        "        self.pool = nn.MaxPool2d(2, 2)\n",
        "        self.conv2 = nn.Conv2d(6, 16, 5)\n",
        "        self.fc1 = nn.Linear(16 * 4 * 4, 150)\n",
        "        self.fc2 = nn.Linear(150, 70)\n",
        "        self.fc3 = nn.Linear(70, 10)\n",
        "\n",
        "    def forward(self, x):\n",
        "        x = self.pool(F.relu(self.conv1(x)))\n",
        "        x = self.pool(F.relu(self.conv2(x)))\n",
        "        x = torch.flatten(x, 1)\n",
        "        x = F.relu(self.fc1(x))\n",
        "        x = F.relu(self.fc2(x))\n",
        "        x = self.fc3(x)\n",
        "        return x\n",
        "\n",
        "net = Net().to(device)"
      ]
    },
    {
      "cell_type": "markdown",
      "metadata": {
        "id": "Gth-oiuihaWo"
      },
      "source": [
        "## Define Loss Function and Optimizer\n",
        "\n",
        "The loss function measures the dissimilarity between the predicted values (output of the model) and the actual target values (ground truth). Examples include mean square error (MSE) and cross-entroppy loss.\n",
        "\n",
        "The optimizer is an algorithm used to update the model parameters so that this loss is minimized. This might include stochastic gradient descent (SGD) and Adam.\n",
        "\n",
        "We can try out different combinations of losses and optimizers to increase our model performance."
      ]
    },
    {
      "cell_type": "code",
      "execution_count": 109,
      "metadata": {
        "id": "OwZMUT7Pgu9o"
      },
      "outputs": [],
      "source": [
        "criterion = nn.CrossEntropyLoss()\n",
        "optimizer = optim.Adam(net.parameters(), lr=0.005)"
      ]
    },
    {
      "cell_type": "markdown",
      "metadata": {
        "id": "n1LMUOdAhnRU"
      },
      "source": [
        "## Train the Model\n",
        "\n",
        "Training our classifier includes feeding the training dataset into our model, the model tries to map this input to a corresponding output predicted label which is compared to the actual label. The comparison is made by computing the loss, and parameters of the model are adjusted based on this loss value.\n",
        "\n",
        "To allow the model to view the whole training dataset one means it has gone through one epoch. Training with multiple epochs means allowing the model to take the same training set as input multiple times, which can allow parameters to further adjust for learing."
      ]
    },
    {
      "cell_type": "code",
      "execution_count": 106,
      "metadata": {
        "colab": {
          "base_uri": "https://localhost:8080/"
        },
        "id": "5U0m_esphm__",
        "outputId": "8ba3fc6f-dff1-4516-dc26-500dd4c3ed9f"
      },
      "outputs": [
        {
          "name": "stdout",
          "output_type": "stream",
          "text": [
            "[1,  2000] loss: 0.783\n",
            "[1,  4000] loss: 0.551\n",
            "[1,  6000] loss: 0.524\n",
            "[1,  8000] loss: 0.507\n",
            "[1, 10000] loss: 0.479\n",
            "[1, 12000] loss: 0.470\n",
            "[2,  2000] loss: 0.470\n",
            "[2,  4000] loss: 0.467\n",
            "[2,  6000] loss: 0.460\n",
            "[2,  8000] loss: 0.454\n",
            "[2, 10000] loss: 0.454\n",
            "[2, 12000] loss: 0.461\n",
            "[3,  2000] loss: 0.427\n",
            "[3,  4000] loss: 0.436\n",
            "[3,  6000] loss: 0.455\n",
            "[3,  8000] loss: 0.454\n",
            "[3, 10000] loss: 0.426\n",
            "[3, 12000] loss: 0.472\n",
            "[4,  2000] loss: 0.443\n",
            "[4,  4000] loss: 0.466\n",
            "[4,  6000] loss: 0.443\n",
            "[4,  8000] loss: 0.435\n",
            "[4, 10000] loss: 0.456\n",
            "[4, 12000] loss: 0.461\n",
            "[5,  2000] loss: 0.435\n",
            "[5,  4000] loss: 0.432\n",
            "[5,  6000] loss: 0.439\n",
            "[5,  8000] loss: 0.456\n",
            "[5, 10000] loss: 0.459\n",
            "[5, 12000] loss: 0.455\n",
            "Finished Training\n"
          ]
        }
      ],
      "source": [
        "for epoch in range(5):  # loop over the dataset multiple times\n",
        "    running_loss = 0\n",
        "    for i, data in enumerate(train_dataloader, 0):\n",
        "        # get the inputs; data is a list of [inputs, labels]\n",
        "        inputs, labels = data\n",
        "\n",
        "        # zero the parameter gradients\n",
        "        optimizer.zero_grad()\n",
        "\n",
        "        # forward + backward + optimize\n",
        "        outputs = net(inputs.to(device))\n",
        "        loss = criterion(outputs, labels.to(device))\n",
        "        loss.backward()\n",
        "        optimizer.step()\n",
        "        running_loss += loss.item()\n",
        "        if i % 2000 == 1999:    # print every 2000 mini-batches\n",
        "            print(f'[{epoch + 1}, {i + 1:5d}] loss: {running_loss / 2000:.3f}')\n",
        "            running_loss = 0.0\n",
        "\n",
        "\n",
        "print(\"Finished Training\")"
      ]
    },
    {
      "cell_type": "code",
      "execution_count": 107,
      "metadata": {
        "id": "ORTtREBg8CJP"
      },
      "outputs": [
        {
          "data": {
            "image/png": "[encoded data removed]",
            "text/plain": [
              "<Figure size 432x288 with 1 Axes>"
            ]
          },
          "metadata": {
            "needs_background": "light"
          },
          "output_type": "display_data"
        },
        {
          "name": "stdout",
          "output_type": "stream",
          "text": [
            "GroundTruth:  Sneaker Pullover Sneaker Bag\n"
          ]
        }
      ],
      "source": [
        "dataiter = iter(test_dataloader)\n",
        "images, labels = next(dataiter)\n",
        "\n",
        "\n",
        "def imshow(img):\n",
        "    npimg = img.numpy()\n",
        "    plt.imshow(np.transpose(npimg, (1, 2, 0)))\n",
        "    plt.show()\n",
        "\n",
        "\n",
        "# print images\n",
        "imshow(torchvision.utils.make_grid(images[:4]))\n",
        "print(\"GroundTruth: \", \" \".join(f\"{labels_map[labels.numpy()[j]]}\" for j in range(4)))"
      ]
    },
    {
      "cell_type": "code",
      "execution_count": 110,
      "metadata": {},
      "outputs": [
        {
          "name": "stdout",
          "output_type": "stream",
          "text": [
            "Accuracy of the network on the test images: 83 %\n"
          ]
        }
      ],
      "source": [
        "correct = 0\n",
        "total = 0\n",
        "# since we're not training, we don't need to calculate the gradients for our outputs\n",
        "with torch.no_grad():\n",
        "    for i, data in enumerate(test_dataloader, 0):\n",
        "        images, labels = data\n",
        "        # calculate outputs by running images through the network\n",
        "        outputs = net(images.to(device))\n",
        "        # the class with the highest energy is what we choose as prediction\n",
        "        _, predicted = torch.max(outputs.data, 1)\n",
        "        total += labels.to(device).size(0)\n",
        "        correct += (predicted == labels.to(device)).sum().item()\n",
        "\n",
        "print(f\"Accuracy of the network on the test images: {100 * correct // total} %\")"
      ]
    },
    {
      "cell_type": "markdown",
      "metadata": {},
      "source": [
        "## Model Improvements\n",
        "\n",
        "Can you try to improve the performance of this model? We have some tips for you!\n",
        "- Try changing the number and dimensions involved in the convolutional layers.\n",
        "- Add a batch normalisation layer after each convolution layer.\n",
        "- Try different optimizers and criterion.\n",
        "- Apply data augmentation to increase the dataset.\n",
        "- Normalize the image tensors during preprocessing.\n",
        "\n",
        "Search up Pytorch and Sklearn documentation to implement these. Read this article for more information: [7 Best Techniques To Improve The Accuracy of CNN W/O Overfitting](https://medium.com/mlearning-ai/7-best-techniques-to-improve-the-accuracy-of-cnn-w-o-overfitting-6db06467182f)."
      ]
    },
    {
      "cell_type": "markdown",
      "metadata": {},
      "source": [
        "References:\n",
        "- [Training a Classifier](https://pytorch.org/tutorials/beginner/blitz/cifar10_tutorial.html)\n",
        "- [Fashion MNIST with Pytorch](https://www.kaggle.com/code/pankajj/fashion-mnist-with-pytorch-93-accuracy)"
      ]
    }
  ],
  "metadata": {
    "accelerator": "GPU",
    "colab": {
      "gpuType": "T4",
      "provenance": [],
      "toc_visible": true
    },
    "kernelspec": {
      "display_name": "Python 3",
      "name": "python3"
    },
    "language_info": {
      "codemirror_mode": {
        "name": "ipython",
        "version": 3
      },
      "file_extension": ".py",
      "mimetype": "text/x-python",
      "name": "python",
      "nbconvert_exporter": "python",
      "pygments_lexer": "ipython3",
      "version": "3.9.1"
    },
    "orig_nbformat": 4
  },
  "nbformat": 4,
  "nbformat_minor": 0
}
